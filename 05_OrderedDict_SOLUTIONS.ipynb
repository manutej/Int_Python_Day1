{
 "metadata": {
  "language_info": {
   "codemirror_mode": {
    "name": "ipython",
    "version": 3
   },
   "file_extension": ".py",
   "mimetype": "text/x-python",
   "name": "python",
   "nbconvert_exporter": "python",
   "pygments_lexer": "ipython3",
   "version": "3.8.5"
  },
  "orig_nbformat": 2,
  "kernelspec": {
   "name": "python385jvsc74a57bd0dca0ade3e726a953b501b15e8e990130d2b7799f14cfd9f4271676035ebe5511",
   "display_name": "Python 3.8.5 64-bit ('anaconda3': virtualenv)"
  }
 },
 "nbformat": 4,
 "nbformat_minor": 2,
 "cells": [
  {
   "source": [
    "# `OrderedDict`"
   ],
   "cell_type": "markdown",
   "metadata": {}
  },
  {
   "cell_type": "code",
   "execution_count": null,
   "metadata": {},
   "outputs": [],
   "source": [
    "\n",
    "`OrderedDict`: This is a dictionary subclass that remembers the order in which its contents are added. \n",
    "\n",
    "Unlike a standard dictionary, it maintains the elements in the order they were inserted.\n",
    "    \n",
    "    "
   ]
  },
  {
   "source": [
    "### Key features of OrderedDict:\n",
    "    \n",
    "- Remembers the order of insertion of key-value pairs. \n",
    "    (Already automatic in newer Python versions)\n",
    "- Useful when the order of items matters, such as in scenarios involving:\n",
    "        data processing, data serialization, or caching.\n",
    "- Provides methods like `popitem()` and \n",
    "`move_to_end()` to manipulate the order of items."
   ],
   "cell_type": "markdown",
   "metadata": {}
  },
  {
   "cell_type": "code",
   "execution_count": null,
   "metadata": {},
   "outputs": [],
   "source": [
    "from collections import OrderedDict\n",
    "d = OrderedDict()\n",
    "d['a'] = 'A'\n",
    "d['b'] = 'B'\n",
    "d['c'] = 'C'  # The order of insertion is remembered\n"
   ]
  },
  {
   "cell_type": "code",
   "execution_count": null,
   "metadata": {},
   "outputs": [],
   "source": [
    "\n",
    "💡 Why Use: While regular dictionaries now maintain insertion order, **`OrderedDict`** is useful for its additional methods and when working with older versions of Python or when order-specific operations are required.\n"
   ]
  },
  {
   "cell_type": "code",
   "execution_count": null,
   "metadata": {},
   "outputs": [],
   "source": [
    "from collections import OrderedDict\n",
    "\n",
    "# Create an OrderedDict\n",
    "od = OrderedDict()\n",
    "od['key1'] = 'value1'\n",
    "od['key2'] = 'value2'\n",
    "\n",
    "for key, value in od.items():\n",
    "    print(key, value)\n"
   ]
  },
  {
   "source": [
    "Shows the maintenance of insertion order, a feature now built into the default dict from Python 3.7 onwards, but OrderedDict still has unique methods worth learning."
   ],
   "cell_type": "markdown",
   "metadata": {}
  },
  {
   "cell_type": "code",
   "execution_count": 1,
   "metadata": {},
   "outputs": [
    {
     "output_type": "stream",
     "name": "stdout",
     "text": [
      "92\nAlice: 85\nBob: 92\nCharlie: 78\n"
     ]
    }
   ],
   "source": [
    "from collections import OrderedDict\n",
    "\n",
    "# Create an OrderedDict\n",
    "student_scores = OrderedDict()\n",
    "\n",
    "# Add key-value pairs\n",
    "student_scores[\"Alice\"] = 85\n",
    "student_scores[\"Bob\"] = 92\n",
    "student_scores[\"Charlie\"] = 78\n",
    "\n",
    "# Access values by key\n",
    "print(student_scores[\"Bob\"])# Output: 92# Iterate over the OrderedDict\n",
    "for name, score in student_scores.items():\n",
    "    print(f\"{name}: {score}\")\n"
   ]
  },
  {
   "source": [
    "### Exercise 1: Maintaining Insertion Order\n",
    "\n",
    "- **Problem**:\n",
    "    - Create an OrderedDict called `fruit_counts`\n",
    "    - add the following key-value pairs in order: (\"apple\", 5), (\"banana\", 3), (\"orange\", 2).\n",
    "    - Add a new key-value pair (\"grape\", 4) to `fruit_counts`.\n",
    "    - Print the keys of `fruit_counts` in the order they were inserted."
   ],
   "cell_type": "markdown",
   "metadata": {}
  },
  {
   "cell_type": "code",
   "execution_count": null,
   "metadata": {},
   "outputs": [],
   "source": [
    "from collections import OrderedDict\n",
    "\n",
    "fruit_counts = OrderedDict()\n",
    "fruit_counts[\"apple\"] = 5\n",
    "fruit_counts[\"banana\"] = 3\n",
    "fruit_counts[\"orange\"] = 2\n",
    "\n",
    "# Add a new key-value pair (\"grape\", 4) to fruit_counts\n",
    "fruit_counts[\"grape\"] = 4\n",
    "\n",
    "# Print the keys of fruit_counts in the order they were inserted.\n",
    "print(list(fruit_counts.keys()))\n",
    "# ['apple', 'banana', 'orange', 'grape']"
   ]
  },
  {
   "cell_type": "code",
   "execution_count": null,
   "metadata": {},
   "outputs": [],
   "source": [
    "# Add a new key-value pair (\"grape\", 4) to fruit_counts\n",
    "fruit_counts[\"grape\"] = 4\n",
    "\n",
    "# Print the keys of fruit_counts in the order they were inserted.\n",
    "print(list(fruit_counts.keys()))\n",
    "# ['apple', 'banana', 'orange', 'grape']"
   ]
  },
  {
   "source": [
    "### Exercise 2: Reversing the Order\n",
    "\n",
    "- **Problem**: Given an **`OrderedDict`** with several items, reverse its order and print the reversed items.\n",
    "- **Solution**:"
   ],
   "cell_type": "markdown",
   "metadata": {}
  },
  {
   "cell_type": "code",
   "execution_count": null,
   "metadata": {},
   "outputs": [],
   "source": [
    "od_reversed = OrderedDict(reversed(list(od.items())))\n",
    "for key, value in od_reversed.items():\n",
    "    print(key, value)\n",
    "# Output will be the reverse of the original order\n"
   ]
  },
  {
   "cell_type": "code",
   "execution_count": null,
   "metadata": {},
   "outputs": [],
   "source": [
    "### Exercise 3: Updating Values\n",
    "\n",
    "- **Problem**: Create an **`OrderedDict`** with numeric keys and string values. Update the value of an existing key and demonstrate that the order remains unchanged.\n",
    "\n"
   ]
  },
  {
   "cell_type": "code",
   "execution_count": 5,
   "metadata": {},
   "outputs": [
    {
     "output_type": "stream",
     "name": "stdout",
     "text": [
      "1 ONE\n2 two\n"
     ]
    }
   ],
   "source": [
    "od = OrderedDict({1: \"one\", 2: \"two\"})\n",
    "od[1] = \"ONE\"\n",
    "for key, value in od.items():\n",
    "    print(key, value)\n",
    "# Output:\n",
    "# 1 ONE\n",
    "# 2 two\n"
   ]
  },
  {
   "source": [
    "### Exercise 4: Move to End\n",
    "\n",
    "- **Problem**: Given an **`OrderedDict`**, move one of the keys to the end (rightmost position) and print the dictionary to show the new order.\n"
   ],
   "cell_type": "markdown",
   "metadata": {}
  },
  {
   "cell_type": "code",
   "execution_count": 6,
   "metadata": {},
   "outputs": [
    {
     "output_type": "stream",
     "name": "stdout",
     "text": [
      "2 two\n1 ONE\n"
     ]
    }
   ],
   "source": [
    "od.move_to_end(1)  # Assuming '1' is a key in the dictionary\n",
    "for key, value in od.items():\n",
    "    print(key, value)\n",
    "# Output will show key '1' moved to the end"
   ]
  },
  {
   "cell_type": "code",
   "execution_count": null,
   "metadata": {},
   "outputs": [],
   "source": [
    "\n",
    "last_key, last_value = od.popitem()\n",
    "od.update({last_key: last_value})\n",
    "od.update({0: \"zero\"})  # Assuming '0' is a new key to add at the beginning\n",
    "od.move_to_end(0, last=False)\n",
    "for key, value in od.items():\n",
    "    print(key, value)"
   ]
  },
  {
   "source": [
    "### Exercise 5: Pop and Insert\n",
    "\n",
    "- **Problem**: Remove the last item from an **`OrderedDict`** and add a new item at the beginning. Print the dictionary to verify the order."
   ],
   "cell_type": "markdown",
   "metadata": {}
  },
  {
   "cell_type": "code",
   "execution_count": null,
   "metadata": {},
   "outputs": [],
   "source": []
  },
  {
   "cell_type": "code",
   "execution_count": null,
   "metadata": {},
   "outputs": [],
   "source": [
    "\n",
    "\n",
    "### Exercise 6: Student Records*\n",
    "\n",
    "1. Create an OrderedDict called `student_records` to store student information.\n",
    "2. Add the following student records in order:\n",
    "    - `\"John\": {\"age\": 20, \"major\": \"Computer Science\"}`\n",
    "    - `\"Emily\": {\"age\": 22, \"major\": \"Economics\"}`\n",
    "    - `\"Michael\": {\"age\": 21, \"major\": \"Mathematics\"}`\n",
    "3. Print the student records in the order they were inserted.\n",
    "4. Update Emily's major to \"Business\" in `student_records`.\n",
    "5. Remove the record for \"Michael\" from `student_records` using the `pop()` method.\n",
    "6. Print the remaining student records.\n"
   ]
  },
  {
   "cell_type": "code",
   "execution_count": null,
   "metadata": {},
   "outputs": [],
   "source": [
    "from collections import OrderedDict\n",
    "\n",
    "# 1. Create an OrderedDict called student_records\n",
    "student_records = OrderedDict()\n",
    "\n",
    "# 2. Add student records in order\n",
    "student_records[\"John\"] = {\"age\": 20, \"major\": \"Computer Science\"}\n",
    "student_records[\"Emily\"] = {\"age\": 22, \"major\": \"Economics\"}\n",
    "student_records[\"Michael\"] = {\"age\": 21, \"major\": \"Mathematics\"}\n",
    "\n",
    "# 3. Print the student records in the order they were inserted\n",
    "for name, record in student_records.items():\n",
    "    print(f\"{name}: {record}\")\n",
    "\n",
    "# 4. Update Emily's major to \"Business\"\n",
    "student_records[\"Emily\"][\"major\"] = \"Business\"\n",
    "\n",
    "# 5. Remove the record for \"Michael\" using the pop() method\n",
    "student_records.pop(\"Michael\")\n",
    "\n",
    "# 6. Print the remaining student records\n",
    "for name, record in student_records.items():\n",
    "    print(f\"{name}: {record}\")"
   ]
  },
  {
   "source": [
    "### Exercise 7: Word Frequency Counter*\n",
    "\n",
    "1. Create a function called `word_frequency` that takes a string as input and returns an OrderedDict representing the frequency of each word in the string.\n",
    "2. The keys of the OrderedDict should be the words, and the values should be their frequencies.\n",
    "3. The words should be stored in the order they first appear in the string.\n",
    "4. Test the `word_frequency` function with the following input string: \"the quick brown fox jumps over the lazy dog\".\n",
    "5. Print the word frequencies in the order they appear in the string.\n"
   ],
   "cell_type": "markdown",
   "metadata": {}
  },
  {
   "cell_type": "code",
   "execution_count": null,
   "metadata": {},
   "outputs": [],
   "source": [
    "from collections import OrderedDict\n",
    "\n",
    "def word_frequency(string):\n",
    "    # Split the string into words\n",
    "    words = string.split()\n",
    "    \n",
    "    # Create an OrderedDict to store word frequencies\n",
    "    freq_dict = OrderedDict()\n",
    "    \n",
    "    # Count the frequency of each word\n",
    "    for word in words:\n",
    "        if word not in freq_dict:\n",
    "            freq_dict[word] = 1\n",
    "        else:\n",
    "            freq_dict[word] += 1\n",
    "    \n",
    "    return freq_dict\n",
    "\n",
    "# Test the word_frequency function\n",
    "input_string = \"the quick brown fox jumps over the lazy dog\"\n",
    "frequencies = word_frequency(input_string)\n",
    "\n",
    "# Print the word frequencies\n",
    "for word, freq in frequencies.items():\n",
    "    print(f\"{word}: {freq}\")"
   ]
  },
  {
   "source": [
    "### Exercise 8: Cache Simulation\n",
    "\n",
    "1. Create an OrderedDict called `cache` with a maximum size of 5.\n",
    "2. Implement a function called `get_data` that takes a key as input and returns the corresponding value from the cache.\n",
    "    - If the key exists in the cache, move it to the end (most recently used).\n",
    "    - If the key doesn't exist in the cache, add it to the cache with a value of None.\n",
    "    - If the cache reaches its maximum size, remove the least recently used item before adding a new one.\n",
    "3. Test the `get_data` function with the following sequence of keys: \"A\", \"B\", \"C\", \"D\", \"E\", \"A\", \"F\".\n",
    "4. Print the final state of the cache."
   ],
   "cell_type": "markdown",
   "metadata": {}
  },
  {
   "cell_type": "code",
   "execution_count": null,
   "metadata": {},
   "outputs": [],
   "source": [
    "from collections import OrderedDict\n",
    "\n",
    "# Create an OrderedDict called cache with a maximum size of 5\n",
    "cache = OrderedDict()\n",
    "max_size = 5\n",
    "\n",
    "def get_data(key):\n",
    "    if key in cache:\n",
    "# If the key exists, move it to the end (most recently used)\n",
    "        cache.move_to_end(key)\n",
    "    else:\n",
    "# If the key doesn't exist, add it to the cache with a value of None\n",
    "        cache[key] = None\n",
    "\n",
    "# If the cache reaches its maximum size, remove the least recently used item\n",
    "        if len(cache) > max_size:\n",
    "            cache.popitem(last=False)\n",
    "\n",
    "    return cache[key]\n",
    "\n",
    "# Test the get_data function\n",
    "keys = [\"A\", \"B\", \"C\", \"D\", \"E\", \"A\", \"F\"]\n",
    "for key in keys:\n",
    "    get_data(key)\n",
    "\n",
    "# Print the final state of the cache\n",
    "print(cache)\n"
   ]
  },
  {
   "source": [
    "### Exercise 9: Storing User Login History\n",
    "\n"
   ],
   "cell_type": "markdown",
   "metadata": {}
  },
  {
   "cell_type": "code",
   "execution_count": null,
   "metadata": {},
   "outputs": [],
   "source": [
    "from collections import OrderedDict\n",
    "\n",
    "def store_login_history(user_id, timestamp):\n",
    "    login_history = OrderedDict()\n",
    "    login_history[timestamp] = user_id\n",
    "\n",
    "# Limit the login history to the last 10 entries\n",
    "    if len(login_history) > 10:\n",
    "        login_history.popitem(last=False)\n",
    "\n",
    "    return login_history\n",
    "\n",
    "# Test the store_login_history function\n",
    "login_history = OrderedDict()\n",
    "login_history = store_login_history(\"user1\", \"2023-06-01 10:00:00\")\n",
    "login_history = store_login_history(\"user2\", \"2023-06-01 10:05:00\")\n",
    "login_history = store_login_history(\"user3\", \"2023-06-01 10:10:00\")\n",
    "# ... add more login entries# Print the login history\n",
    "for timestamp, user_id in login_history.items():\n",
    "    print(f\"{timestamp}: {user_id}\")\n"
   ]
  }
 ]
}