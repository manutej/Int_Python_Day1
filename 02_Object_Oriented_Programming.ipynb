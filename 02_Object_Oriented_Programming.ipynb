{
 "metadata": {
  "language_info": {
   "codemirror_mode": {
    "name": "ipython",
    "version": 3
   },
   "file_extension": ".py",
   "mimetype": "text/x-python",
   "name": "python",
   "nbconvert_exporter": "python",
   "pygments_lexer": "ipython3",
   "version": "3.8.5"
  },
  "orig_nbformat": 2,
  "kernelspec": {
   "name": "python385jvsc74a57bd0dca0ade3e726a953b501b15e8e990130d2b7799f14cfd9f4271676035ebe5511",
   "display_name": "Python 3.8.5 64-bit ('anaconda3': virtualenv)"
  }
 },
 "nbformat": 4,
 "nbformat_minor": 2,
 "cells": [
  {
   "source": [
    "# Object Oriented Programming"
   ],
   "cell_type": "markdown",
   "metadata": {}
  },
  {
   "source": [
    "## Classes and Objects\n",
    "\n",
    "- A **class** is a blueprint or template for creating objects. It defines the common attributes and behaviors that the objects of the class will have.\n",
    "- An **object** is an instance of a class. It represents a specific entity with its own unique set of attributes and behaviors.\n",
    "- **Objects** are created from **classes** using the `class` constructor.\n",
    "- Attributes are the data members of a `class`, representing the state of an `object`.\n",
    "- Methods are the `functions` defined within a `class`, representing the **behavior** of an `object`.\n",
    "\n",
    "Here's a simple example of a class and object in Python:\n",
    "\n",
    "- We define a class called `BankAccount` with an `__init__` method (constructor) that takes `account_number`, `owner`, and an optional `balance` parameter (defaulting to 0).\n",
    "- The `__init__` method initializes the object's attributes (`self.account_number`, `self.owner`, `self.balance`) with the provided values."
   ],
   "cell_type": "markdown",
   "metadata": {}
  },
  {
   "cell_type": "code",
   "execution_count": 3,
   "metadata": {},
   "outputs": [],
   "source": [
    "class BankAccount:\n",
    "    def __init__(self, account_number, owner, balance=0):\n",
    "        self.account_number = account_number\n",
    "        self.owner = owner\n",
    "        self.balance = balance"
   ]
  },
  {
   "source": [
    "### WHY CLASSES?\n",
    "- Allow us to logically group our data and functions\n",
    "- Methods - function that is associated with a class\n",
    "\n",
    "- Ex. Employees and methods"
   ],
   "cell_type": "markdown",
   "metadata": {}
  },
  {
   "source": [
    "- We define methods `deposit`, `withdraw`, and `display_balance` to perform common operations on a bank account. Note the use of `self` in the code. This will be for the object that gets instantiated with this class."
   ],
   "cell_type": "markdown",
   "metadata": {}
  },
  {
   "cell_type": "code",
   "execution_count": 4,
   "metadata": {},
   "outputs": [],
   "source": [
    "def deposit(self, amount):\n",
    "    pass\n",
    "\n",
    "def withdraw(self, amount):\n",
    "    pass\n",
    "\n",
    "def display_balance(self):\n",
    "    pass"
   ]
  },
  {
   "source": [
    "The deposit method adds the specified amount to the account balance and prints a message."
   ],
   "cell_type": "markdown",
   "metadata": {}
  },
  {
   "cell_type": "code",
   "execution_count": 12,
   "metadata": {},
   "outputs": [],
   "source": [
    "def deposit(self, amount):\n",
    "    self.balance += amount\n",
    "    print(f\"Deposited {amount}. New balance: {self.balance}\")"
   ]
  },
  {
   "source": [
    "- The `withdraw` method checks if there are sufficient funds, deducts the specified amount from the balance if possible, and prints a message. If there are insufficient funds, it prints an error message."
   ],
   "cell_type": "markdown",
   "metadata": {}
  },
  {
   "cell_type": "code",
   "execution_count": 13,
   "metadata": {},
   "outputs": [],
   "source": [
    "def withdraw(self, amount):\n",
    "    if self.balance >= amount:\n",
    "        self.balance -= amount\n",
    "        print(f\"Withdrawn {amount}. New balance: {self.balance}\")\n",
    "    else:\n",
    "        print(\"Insufficient funds.\")"
   ]
  },
  {
   "source": [
    "The `display_balance` method prints the current account balance."
   ],
   "cell_type": "markdown",
   "metadata": {}
  },
  {
   "source": [
    "def display_balance(self):\n",
    "    print(f\"Account balance: {self.balance}\")"
   ],
   "cell_type": "code",
   "metadata": {},
   "execution_count": 15,
   "outputs": []
  },
  {
   "source": [
    "Here is now the completed class we can actually define clearly:\n"
   ],
   "cell_type": "markdown",
   "metadata": {}
  },
  {
   "cell_type": "code",
   "execution_count": 19,
   "metadata": {},
   "outputs": [],
   "source": [
    "class BankAccount:\n",
    "    def __init__(self, account_number, owner, balance=0):\n",
    "        self.account_number = account_number\n",
    "        self.owner = owner\n",
    "        self.balance = balance\n",
    "\n",
    "    def deposit(self, amount):\n",
    "        self.balance += amount\n",
    "        print(f\"Deposited {amount}. New balance: {self.balance}\")\n",
    "\n",
    "    def withdraw(self, amount):\n",
    "        if self.balance >= amount:\n",
    "            self.balance -= amount\n",
    "            print(f\"Withdrawn {amount}. New balance: {self.balance}\")\n",
    "        else:\n",
    "            print(\"Insufficient funds.\")\n",
    "\n",
    "    def display_balance(self):\n",
    "        print(f\"Account balance: {self.balance}\")\n",
    "\n"
   ]
  },
  {
   "source": [
    "### PythonTutor.com"
   ],
   "cell_type": "markdown",
   "metadata": {}
  },
  {
   "source": [
    "Let’s **instantiate** some objects which are the real variables that use the blueprint of the class with details we provide.\n",
    "\n",
    "- We create two objects of the `BankAccount` class, `account1` and `account2`, by calling the class constructor with specific arguments."
   ],
   "cell_type": "markdown",
   "metadata": {}
  },
  {
   "cell_type": "code",
   "execution_count": 20,
   "metadata": {},
   "outputs": [],
   "source": [
    "# Create objects of the BankAccount class\n",
    "account1 = BankAccount(\"123456789\", \"John Doe\")\n",
    "account2 = BankAccount(\"987654321\", \"Jane Smith\", 1000)"
   ]
  },
  {
   "source": [
    "We can access the values within our objects (**attributes**) like this  \n",
    "\n",
    "- using dot notation (`account1.account_number`, `account2.owner`)."
   ],
   "cell_type": "markdown",
   "metadata": {}
  },
  {
   "cell_type": "code",
   "execution_count": 21,
   "metadata": {},
   "outputs": [
    {
     "output_type": "stream",
     "name": "stdout",
     "text": [
      "123456789\nJane Smith\n"
     ]
    }
   ],
   "source": [
    "# Access object attributes\n",
    "print(account1.account_number)  # Output: 123456789\n",
    "print(account2.owner)  # Output: Jane Smith"
   ]
  },
  {
   "source": [
    "And finally, we can call object methods to do operations defined in our class with the methods (functions) from our class!"
   ],
   "cell_type": "markdown",
   "metadata": {}
  },
  {
   "cell_type": "code",
   "execution_count": 22,
   "metadata": {},
   "outputs": [
    {
     "output_type": "stream",
     "name": "stdout",
     "text": [
      "Deposited 500. New balance: 500\nAccount balance: 500\nWithdrawn 200. New balance: 800\nAccount balance: 800\nInsufficient funds.\n"
     ]
    }
   ],
   "source": [
    "# Call object methods\n",
    "account1.deposit(500)\n",
    "account1.display_balance()\n",
    "\n",
    "account2.withdraw(200)\n",
    "account2.display_balance()\n",
    "\n",
    "account1.withdraw(1000)  # Output: Insufficient funds."
   ]
  },
  {
   "source": [
    "## **Practice** **Exercise**:\n",
    "\n",
    "1. Add a new method called `transfer` to the `BankAccount` class that takes another `BankAccount` object and an amount as parameters. The method should transfer the specified amount from the current account to the other account.\n",
    "2. Create two `BankAccount` objects with initial balances.\n",
    "3. Transfer an amount from one account to the other using the `transfer` method.\n",
    "4. Display the balances of both accounts before and after the transfer.\n",
    "\n",
    "(You may want to re-copy the entire `BankAccount` class in the cell below for easier working)"
   ],
   "cell_type": "markdown",
   "metadata": {}
  },
  {
   "cell_type": "code",
   "execution_count": 24,
   "metadata": {},
   "outputs": [
    {
     "output_type": "stream",
     "name": "stdout",
     "text": [
      "Initial balances:\nAccount balance: 1000\nAccount balance: 500\n\nTransferring 300 from account 123456789 to account 987654321\nTransferred 300 to account 987654321\n\nBalances after transfer:\nAccount balance: 700\nAccount balance: 800\n"
     ]
    }
   ],
   "source": [
    "### YOUR CODE\n",
    "\n",
    "\n"
   ]
  },
  {
   "cell_type": "code",
   "execution_count": null,
   "metadata": {},
   "outputs": [],
   "source": [
    "#TEST YOUR CLASS\n",
    "# Create BankAccount objects\n",
    "account1 = BankAccount(\"123456789\", \"John Doe\", 1000)\n",
    "account2 = BankAccount(\"987654321\", \"Jane Smith\", 500)\n",
    "\n",
    "# Display initial balances\n",
    "print(\"Initial balances:\")\n",
    "account1.display_balance()\n",
    "account2.display_balance()\n",
    "\n",
    "# Transfer amount from account1 to account2\n",
    "transfer_amount = 300\n",
    "print(f\"\\nTransferring {transfer_amount} from account {account1.account_number} to account {account2.account_number}\")\n",
    "account1.transfer(account2, transfer_amount)\n",
    "\n",
    "# Display balances after the transfer\n",
    "print(\"\\nBalances after transfer:\")\n",
    "account1.display_balance()\n",
    "account2.display_balance()"
   ]
  },
  {
   "source": [
    "### Scenario: \n",
    "You're managing a library system. You need classes for Book and Library.\n",
    "\n",
    "#### Book Class Attributes:\n",
    "\n",
    "Title\n",
    "Author\n",
    "ISBN\n",
    "Available (Boolean)\n",
    "\n",
    "#### Methods:\n",
    "\n",
    "`__init__`: Constructor to set title, author, and ISBN.\n",
    "\n",
    "`check_out`: Marks the book as not available.\n",
    "\n",
    "`return_book`: Marks the book as available.\n",
    "\n",
    "#### Library Class Attributes:\n",
    "\n",
    "Name\n",
    "\n",
    "List of Books\n",
    "\n",
    "Methods:\n",
    "\n",
    "`__init__`: Constructor to set name and initialize an empty book list.\n",
    "\n",
    "`add_book`: Adds a new book to the library.\n",
    "\n",
    "`find_books_by_author`: Returns a list of books by a specific author.\n",
    "\n",
    "### Your Task\n",
    "Create these classes and demonstrate adding books to the library, checking out a book, and finding books by an author."
   ],
   "cell_type": "markdown",
   "metadata": {}
  },
  {
   "cell_type": "code",
   "execution_count": 32,
   "metadata": {},
   "outputs": [],
   "source": [
    "### YOUR CODE HERE\n",
    "    \n"
   ]
  },
  {
   "cell_type": "code",
   "execution_count": 33,
   "metadata": {},
   "outputs": [],
   "source": [
    "### TEST CLASS HERE\n",
    "moby = Book(\"Moby Dick\", \"Herman Melville\", \"9780553213119\")\n",
    "old_man_sea = Book(\"The Old Man and The Sea\", \"Ernest Hemingway\",\"0684801221\")\n",
    "for_whom_bell = Book(\"For Whom the Bell Tolls\",\"Ernest Hemingway\",\"0684803356\")"
   ]
  },
  {
   "cell_type": "code",
   "execution_count": 34,
   "metadata": {},
   "outputs": [
    {
     "output_type": "execute_result",
     "data": {
      "text/plain": [
       "False"
      ]
     },
     "metadata": {},
     "execution_count": 34
    }
   ],
   "source": [
    "moby.check_out()\n",
    "moby.avail"
   ]
  },
  {
   "cell_type": "code",
   "execution_count": 35,
   "metadata": {},
   "outputs": [],
   "source": [
    "moby.return_book()"
   ]
  },
  {
   "cell_type": "code",
   "execution_count": 36,
   "metadata": {},
   "outputs": [
    {
     "output_type": "execute_result",
     "data": {
      "text/plain": [
       "True"
      ]
     },
     "metadata": {},
     "execution_count": 36
    }
   ],
   "source": [
    "moby.avail"
   ]
  },
  {
   "cell_type": "code",
   "execution_count": 37,
   "metadata": {},
   "outputs": [
    {
     "output_type": "stream",
     "name": "stdout",
     "text": [
      "The Old Man and The Sea Ernest Hemingway 0684801221\nFor Whom the Bell Tolls Ernest Hemingway 0684803356\n"
     ]
    }
   ],
   "source": [
    "library = Library([])\n",
    "library.add_book(moby)\n",
    "library.add_book(old_man_sea)\n",
    "library.add_book(for_whom_bell)\n",
    "hemingway_books = library.find_books_by_author('Ernest Hemingway')\n",
    "for book in hemingway_books:\n",
    "    print(book.title, book.author, book.isbn)"
   ]
  },
  {
   "cell_type": "code",
   "execution_count": 38,
   "metadata": {},
   "outputs": [],
   "source": [
    "### YOUR CODE HERE\n"
   ]
  },
  {
   "source": [
    "### Magic Methods\n",
    "methods whose name is of the form `__foo__` are called \"magic methods\" in Python\n",
    "\n",
    "you already know one of them: `__init__`\n",
    "\n",
    "`__init__` is called automatically when the object is instantiated\n",
    "sometimes incorrectly called a constructor\n",
    "\n",
    "`__str__()` returns a string representation of the object (i.e., for humans)\n",
    "\n",
    "#### maps to `str()` function\n",
    "\n",
    "what you get when you `print()` an object\n",
    "`__repr__()` returns an unambiguous representation of the object which could be fed to Python interpreter to recreate the object\n",
    "\n",
    "#### maps to `repr()` function\n",
    "\n",
    "what you get when you have the interpreter print the value of an object\n",
    "\n",
    "a good example of the difference between `str()` and `repr()` can be demonstrated with a datetime object..."
   ],
   "cell_type": "markdown",
   "metadata": {}
  },
  {
   "cell_type": "code",
   "execution_count": 25,
   "metadata": {},
   "outputs": [
    {
     "output_type": "stream",
     "name": "stdout",
     "text": [
      "<class 'datetime.datetime'>\n2024-03-06 02:35:49.611667\n"
     ]
    }
   ],
   "source": [
    "import datetime # module for converting/adding/etc. dates\n",
    "today = datetime.datetime.now() # MODULE NAME.CLASS NAME.METHOD NAME\n",
    "print(type(today), today, sep='\\n') # str()"
   ]
  },
  {
   "cell_type": "code",
   "execution_count": 26,
   "metadata": {},
   "outputs": [
    {
     "output_type": "execute_result",
     "data": {
      "text/plain": [
       "'2024-03-06 02:35:49.611667'"
      ]
     },
     "metadata": {},
     "execution_count": 26
    }
   ],
   "source": [
    "str(today) # same as __str__() function in the object\n"
   ]
  },
  {
   "cell_type": "code",
   "execution_count": 27,
   "metadata": {},
   "outputs": [
    {
     "output_type": "execute_result",
     "data": {
      "text/plain": [
       "'2024-03-06 02:35:49.611667'"
      ]
     },
     "metadata": {},
     "execution_count": 27
    }
   ],
   "source": [
    "today.__str__()\n"
   ]
  },
  {
   "cell_type": "code",
   "execution_count": 28,
   "metadata": {},
   "outputs": [
    {
     "output_type": "execute_result",
     "data": {
      "text/plain": [
       "'datetime.datetime(2024, 3, 6, 2, 35, 49, 611667)'"
      ]
     },
     "metadata": {},
     "execution_count": 28
    }
   ],
   "source": [
    "today.__repr__() # repr()\n"
   ]
  },
  {
   "source": [
    "### Let's augment our BankAccount class with str() and repr() functions..."
   ],
   "cell_type": "markdown",
   "metadata": {}
  },
  {
   "cell_type": "code",
   "execution_count": 29,
   "metadata": {},
   "outputs": [],
   "source": [
    "class BankAccount2:\n",
    "    def __init__(self, name, initial_balance):\n",
    "        self.name = name\n",
    "        self.balance = initial_balance\n",
    "\n",
    "    def __str__(self):\n",
    "        \"\"\"string representation of object, for humans\n",
    "        __repr__ is used if __str__ does not exist\"\"\"\n",
    "        return self.name + ' has €' + str(self.balance) + ' in the bank'\n",
    "        \n",
    "    def __repr__(self):\n",
    "        '''unambiguous representation of the object'''\n",
    "        return self.__class__.__name__ + '(' + repr(self.name) + ', ' + repr(self.balance) + ')'\n",
    "\n",
    "    def __add__(self, other):\n",
    "        return self.__class__(self.name + ' + ' + other.name, \n",
    "                           self.balance + other.balance - 5.95)\n",
    "        \n",
    "    def __mul__(self, factor):\n",
    "        pass\n",
    "    \n",
    "    def deposit(self, amount):\n",
    "        if amount > 0:\n",
    "            self.balance += amount\n",
    "            return self.balance\n",
    "        else:\n",
    "            print(\"can't deposit nonpositive amount!\")\n",
    "\n",
    "    def withdraw(self, amount):\n",
    "        if amount > 0:\n",
    "            if amount <= self.balance:\n",
    "                self.balance -= amount\n",
    "                return self.balance\n",
    "            else:\n",
    "                print(\"can't withdraw\", amount, \"or you would be overdrawn!\")\n",
    "        else:\n",
    "            print(\"can't withdraw nonpositive amount!\")"
   ]
  },
  {
   "cell_type": "code",
   "execution_count": null,
   "metadata": {},
   "outputs": [],
   "source": [
    "account1 = BankAccount2('Michael D. Higgins', 150)\n",
    "account2 = BankAccount2('Boris Johnson', 150)\n",
    "print(account1) # __str__()"
   ]
  },
  {
   "cell_type": "code",
   "execution_count": null,
   "metadata": {},
   "outputs": [],
   "source": [
    "len(account1)\n"
   ]
  },
  {
   "cell_type": "code",
   "execution_count": null,
   "metadata": {},
   "outputs": [],
   "source": [
    "account1 # __repr__()\n"
   ]
  },
  {
   "cell_type": "code",
   "execution_count": null,
   "metadata": {},
   "outputs": [],
   "source": [
    "account1 + account2\n"
   ]
  },
  {
   "cell_type": "code",
   "execution_count": null,
   "metadata": {},
   "outputs": [],
   "source": [
    "code_str = repr(account2)\n",
    "dupe_object = eval(code_str)\n",
    "dupe_object"
   ]
  },
  {
   "source": [
    "### Other Magic Methods\n",
    "\n",
    "`__add__` = add two objects together\n",
    "\n",
    "`__eq__` = implementation of `==`\n",
    "\n",
    "`__ne__` = implementation of `!=`\n",
    "\n",
    "`__len__` = implementation of `len()` method"
   ],
   "cell_type": "markdown",
   "metadata": {}
  },
  {
   "source": [
    "### \"Magic\" BankAccount\n",
    "\n",
    "1. Add a __eq__() method to the BankAccount class\n",
    "\n",
    "2. How you define __eq__() is up to you\n",
    "\n",
    "3. Add a __len__() method to the BankAccount class\n",
    "\n",
    "4. Add a __mul__() method to the BankAccount class\n",
    "it should create a new BankAccount which does something to the name and multiplies the balance by the second operand\n",
    "\n"
   ],
   "cell_type": "markdown",
   "metadata": {}
  },
  {
   "cell_type": "code",
   "execution_count": 40,
   "metadata": {},
   "outputs": [],
   "source": [
    "### YOUR CODE HERE"
   ]
  },
  {
   "source": [
    "### Calculator `Class`\n",
    "\n",
    "Create a class `Calculator` which acts like a calculator\n",
    "Your class should have methods `add()`, `sub()`, `mult()`, `div()`, `pow()`, and `log()`\n",
    "\n",
    "Each of the above methods (except log) should take 1 or 2 arguments\n",
    "for 1 argument, e.g., `add(1)`, your method should add to the running total for 2 arguments, your method should act on those 2 arguments to create a new **running total**\n",
    "e.g., add(2, 4) should produce 6, and then if followed by multiply(5), the result should be 30\n",
    "\n",
    "All calculations should be stored, and should be accessible to the caller via the showcalc() method (kind of like a printing calculator)\n",
    "\n",
    "You should also have an ac() \"all clear\" method which clears the running total and the list of calculations (i.e., showcalc() should produce no output, or \"0.0\" when preceded by a call to ac())"
   ],
   "cell_type": "markdown",
   "metadata": {}
  },
  {
   "cell_type": "code",
   "execution_count": 39,
   "metadata": {},
   "outputs": [],
   "source": [
    "### YOUR CODE HERE\n",
    "import math\n",
    "\n",
    "class Calculator:\n"
   ]
  },
  {
   "cell_type": "code",
   "execution_count": null,
   "metadata": {},
   "outputs": [],
   "source": [
    "# TEST YOUR CLASS HERE"
   ]
  },
  {
   "source": [
    "## Above and Beyond\n",
    "\n",
    "For those willing to go deeper..."
   ],
   "cell_type": "markdown",
   "metadata": {}
  },
  {
   "source": [
    "### Rectangle\n",
    "Create a class called Rectangle with attributes width and height. Implement methods to calculate the area and perimeter of the rectangle."
   ],
   "cell_type": "markdown",
   "metadata": {}
  },
  {
   "cell_type": "code",
   "execution_count": null,
   "metadata": {},
   "outputs": [],
   "source": [
    "### YOUR CODE HERE\n",
    "\n",
    "\n",
    "# Test the Rectangle class\n",
    "rectangle = Rectangle(4, 5)\n",
    "print(f\"Area: {rectangle.area()}\")  # Output: Area: 20\n",
    "print(f\"Perimeter: {rectangle.perimeter()}\")  # Output: Perimeter: 18"
   ]
  },
  {
   "source": [
    "### Employee Class\n",
    "\n",
    "Create a class called `Employee` with attributes `name`, `employee_id`, and `salary`. Implement methods to display employee information and update the salary."
   ],
   "cell_type": "markdown",
   "metadata": {}
  },
  {
   "cell_type": "code",
   "execution_count": null,
   "metadata": {},
   "outputs": [],
   "source": [
    "### YOUR CODE HERE\n",
    "\n",
    "\n",
    "# Test the Employee class\n",
    "employee = Employee(\"John Doe\", \"E001\", 50000)\n",
    "employee.display_info()\n",
    "employee.update_salary(55000)\n",
    "employee.display_info()"
   ]
  },
  {
   "source": [
    "### Student\n",
    "\n",
    "Create a class called Student with attributes name, student_id, and grades (a list of integers). \n",
    "\n",
    "Implement methods to add a grade, calculate the average grade, and display student information."
   ],
   "cell_type": "markdown",
   "metadata": {}
  },
  {
   "cell_type": "code",
   "execution_count": null,
   "metadata": {},
   "outputs": [],
   "source": [
    "### YOUR CODE HERE\n",
    "\n",
    "\n",
    "\n",
    "# Test the Student class\n",
    "student = Student(\"Alice\", \"S001\")\n",
    "student.add_grade(85)\n",
    "student.add_grade(90)\n",
    "student.add_grade(92)\n",
    "student.display_info()"
   ]
  },
  {
   "source": [
    "### Vehicle Class\n",
    "Create a class called `Vehicle` with attributes `make`, `model`, and `year`. \n",
    "Implement a method to display vehicle information. \n",
    "\n",
    "Create a subclass called `Car` that inherits from `Vehicle` and adds an attribute `num_doors`. \n",
    "\n",
    "Implement a method in the Car class to display the number of doors."
   ],
   "cell_type": "markdown",
   "metadata": {}
  },
  {
   "cell_type": "code",
   "execution_count": null,
   "metadata": {},
   "outputs": [],
   "source": [
    "### YOUR CODE HERE\n",
    "\n",
    "# Test the Vehicle and Car classes\n",
    "car = Car(\"Toyota\", \"Camry\", 2022, 4)\n",
    "car.display_info()\n",
    "car.display_doors()"
   ]
  },
  {
   "source": [
    "5. Shape Class\n",
    "    \n",
    "Create a class called `Shape` with a method called `calculate_area()` that raises a `NotImplementedError`. \n",
    "\n",
    "Create subclasses `Rectangle` and `Circle` that inherit from `Shape` and implement the `calculate_area()` method specific to each shape.\n",
    "    \n"
   ],
   "cell_type": "markdown",
   "metadata": {}
  },
  {
   "cell_type": "code",
   "execution_count": 42,
   "metadata": {},
   "outputs": [
    {
     "output_type": "stream",
     "name": "stdout",
     "text": [
      "Rectangle area: 20\nCircle area: 28.27\n"
     ]
    }
   ],
   "source": [
    "### YOUR CODE HERE\n",
    "\n",
    "\n",
    "# Test the Rectangle and Circle classes\n",
    "rectangle = Rectangle(4, 5)\n",
    "print(f\"Rectangle area: {rectangle.calculate_area()}\")  # Output: Rectangle area: 20\n",
    "\n",
    "circle = Circle(3)\n",
    "print(f\"Circle area: {circle.calculate_area():.2f}\")  # Output: Circle area: 28.27"
   ]
  },
  {
   "source": [
    "### Transactions in `BankAccount`\n",
    "Add a transaction history feature to the BankAccount class, allowing tracking of deposits and withdrawals"
   ],
   "cell_type": "markdown",
   "metadata": {}
  },
  {
   "cell_type": "code",
   "execution_count": 43,
   "metadata": {},
   "outputs": [
    {
     "output_type": "stream",
     "name": "stdout",
     "text": [
      "Deposited 1000. New balance: 1000\nWithdrawn 500. New balance: 500\nDeposited 2000. New balance: 2500\nTransaction History:\nDeposit: 1000\nWithdrawal: 500\nDeposit: 2000\n"
     ]
    }
   ],
   "source": [
    "### YOUR CODE HERE\n",
    "\n",
    "\n",
    "# Test the BankAccount class\n",
    "account = BankAccount(\"123456789\", \"John Doe\")\n",
    "account.deposit(1000)\n",
    "account.withdraw(500)\n",
    "account.deposit(2000)\n",
    "account.display_transactions()"
   ]
  },
  {
   "cell_type": "code",
   "execution_count": null,
   "metadata": {},
   "outputs": [],
   "source": []
  }
 ]
}