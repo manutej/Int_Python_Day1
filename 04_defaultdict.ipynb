{
 "metadata": {
  "language_info": {
   "codemirror_mode": {
    "name": "ipython",
    "version": 3
   },
   "file_extension": ".py",
   "mimetype": "text/x-python",
   "name": "python",
   "nbconvert_exporter": "python",
   "pygments_lexer": "ipython3",
   "version": "3.8.5"
  },
  "orig_nbformat": 2,
  "kernelspec": {
   "name": "python385jvsc74a57bd0dca0ade3e726a953b501b15e8e990130d2b7799f14cfd9f4271676035ebe5511",
   "display_name": "Python 3.8.5 64-bit ('anaconda3': virtualenv)"
  }
 },
 "nbformat": 4,
 "nbformat_minor": 2,
 "cells": [
  {
   "source": [
    "# `defaultdict`"
   ],
   "cell_type": "markdown",
   "metadata": {}
  },
  {
   "source": [
    "### `defaultdict` : This is a dictionary subclass that calls a factory function to supply missing values. \n",
    "\n",
    "### This can be particularly useful when you want to avoid key errors and provide a default value for keys that have not been set.\n"
   ],
   "cell_type": "markdown",
   "metadata": {}
  },
  {
   "source": [
    "### `defaultdict` automatically initializes dictionary values with a default type if the key has not been set yet."
   ],
   "cell_type": "markdown",
   "metadata": {}
  },
  {
   "source": [
    "from collections import defaultdict\n",
    "d = defaultdict(int)  # Default value for non-existing keys is 0\n",
    "d['key'] += 1  # 'key' was not previously set, so it gets the default value 0, then we add 1\n"
   ],
   "cell_type": "code",
   "metadata": {},
   "execution_count": 1,
   "outputs": []
  },
  {
   "source": [
    "We passed `int` as factory so all missing keys get initialized to 0. Other common choices are `list()` or `set()`.\n",
    "\n",
    "Key behaviors:\n",
    "\n",
    "- Auto initializes missing keys\n",
    "- Avoids key errors\n",
    "- Factory function provides default\n",
    "\n",
    "This makes `defaultdict` very useful for tallies, accumulations, grouping - anywhere missing keys are common!"
   ],
   "cell_type": "markdown",
   "metadata": {}
  },
  {
   "cell_type": "code",
   "execution_count": null,
   "metadata": {},
   "outputs": [],
   "source": [
    "from collections import defaultdict\n",
    "\n",
    "# Define a defaultdict with list as the default value type\n",
    "dd = defaultdict(list)\n",
    "\n",
    "# Add an item to a non-existing key\n",
    "dd['key1'].append(1)\n",
    "print(dd['key1'])  # Output: [1]\n",
    "\n"
   ]
  },
  {
   "source": [
    "### Utility: \n",
    "`defaultdict` simplifies code that adds items to dictionaries by eliminating the need for checking if a key is present. This is particularly useful when aggregating or categorizing data into collections, such as lists or sets, within a dictionary."
   ],
   "cell_type": "markdown",
   "metadata": {}
  },
  {
   "source": [
    "### Why Use?\n",
    "\n",
    "It's ideal for grouping, counting, and accumulating operations where keys are added dynamically, and you want to avoid key errors or manual checks for existence."
   ],
   "cell_type": "markdown",
   "metadata": {}
  },
  {
   "source": [
    "### Exercise 1: Default Value Types\n",
    "\n",
    "- **Problem**: Create a **`defaultdict`** with a default type of **`float`**. Add a key \"a\" with a value of 3.14, and print the value of a non-existent key \"b\"."
   ],
   "cell_type": "markdown",
   "metadata": {}
  },
  {
   "source": [
    "### YOUR CODE HERE\n",
    "\n"
   ],
   "cell_type": "code",
   "metadata": {},
   "execution_count": null,
   "outputs": []
  },
  {
   "source": [
    "### Exercise 2: Counting with **`defaultdict`**\n",
    "\n",
    "- **Problem**: Count how many times each word appears in the list **`[\"apple\", \"banana\", \"apple\", \"pear\", \"banana\", \"orange\", \"apple\"]`** using **`defaultdict`**."
   ],
   "cell_type": "markdown",
   "metadata": {}
  },
  {
   "cell_type": "code",
   "execution_count": null,
   "metadata": {},
   "outputs": [],
   "source": [
    "from collections import defaultdict\n",
    "\n",
    "### YOUR CODE HERE\n",
    "\n"
   ]
  },
  {
   "source": [
    "The key ideas being:\n",
    "\n",
    "- Initialize defaultdict with int to provide default 0\n",
    "- Split input data into parts\n",
    "- Increment tallies dynamically\n",
    "- Convert back to dict for final output"
   ],
   "cell_type": "markdown",
   "metadata": {}
  },
  {
   "source": [
    "### Exercise 3: Grouping with **`defaultdict`**\n",
    "\n",
    "- **Problem**: Use a **`defaultdict`** to group the words in the list **`[\"cat\", \"dog\", \"horse\", \"cat\", \"dog\"]`** by their first letter."
   ],
   "cell_type": "markdown",
   "metadata": {}
  },
  {
   "cell_type": "code",
   "execution_count": 3,
   "metadata": {},
   "outputs": [
    {
     "output_type": "stream",
     "name": "stdout",
     "text": [
      "{'c': ['cat', 'cat'], 'd': ['dog', 'dog'], 'h': ['horse']}\n"
     ]
    }
   ],
   "source": [
    "from collections import defaultdict\n",
    "\n",
    "### YOUR CODE HERE\n"
   ]
  },
  {
   "source": [
    "### Exercise 4: Using **`defaultdict`** for Set Operations\n",
    "\n",
    "- **Problem**: Use a **`defaultdict`** to store an index of words from the list **`[\"apple\", \"banana\", \"apple\", \"pear\"]`** where each word maps to a set of its occurrence indexes."
   ],
   "cell_type": "markdown",
   "metadata": {}
  },
  {
   "cell_type": "code",
   "execution_count": null,
   "metadata": {},
   "outputs": [],
   "source": [
    "### YOUR CODE HERE"
   ]
  },
  {
   "source": [
    "### Exercise 5: Merging Lists\n",
    "\n",
    "- **Problem**: Given two lists of tuples **`list1 = [(\"a\", 1), (\"b\", 2)]`** and **`list2 = [(\"b\", 3), (\"c\", 4)]`**, merge them into a **`defaultdict`** of lists."
   ],
   "cell_type": "markdown",
   "metadata": {}
  },
  {
   "cell_type": "code",
   "execution_count": 5,
   "metadata": {},
   "outputs": [
    {
     "output_type": "stream",
     "name": "stdout",
     "text": [
      "{'a': [1], 'b': [2, 3], 'c': [4]}\n"
     ]
    }
   ],
   "source": [
    "### YOUR CODE HERE\n",
    "\n"
   ]
  },
  {
   "source": [
    "## Additional Exercises\n",
    "\n",
    "### Exercise 6: Grouping Words by First Letter\n",
    "\n",
    "**Problem Description:**\n",
    "Given a list of words, group them by their first letter. Use `defaultdict` to simplify the grouping process and ensure that the output is a dictionary where each key is the first letter, and the value is a list of words starting with that letter.\n",
    "\n",
    "**Test Input:**\n",
    "\n",
    "```python\n",
    "words = [\"apple\", \"bat\", \"bar\", \"atom\", \"book\", \"car\", \"duck\", \"django\"]\n",
    "\n",
    "```\n",
    "\n",
    "**Expected Output:**\n",
    "\n",
    "```python\n",
    "{\n",
    " 'a': ['apple', 'atom'],\n",
    " 'b': ['bat', 'bar', 'book'],\n",
    " 'c': ['car'],\n",
    " 'd': ['duck', 'django']\n",
    "}\n",
    "\n",
    "```"
   ],
   "cell_type": "markdown",
   "metadata": {}
  },
  {
   "cell_type": "code",
   "execution_count": null,
   "metadata": {},
   "outputs": [],
   "source": [
    "### YOUR CODE HERE\n",
    "\n",
    "\n"
   ]
  },
  {
   "source": [
    "### Exercise 7: Counting Words in a Sentence\n",
    "\n",
    "**Problem Description:**\n",
    "Write a function that counts the occurrences of each word in a given sentence. Use `defaultdict` to facilitate the counting process, where keys are words and values are the counts of those words.\n",
    "\n",
    "**Test Input:**\n",
    "\n",
    "```python\n",
    "sentence = \"hello world hello hello world python\"\n",
    "\n",
    "```\n",
    "\n",
    "**Expected Output:**\n",
    "\n",
    "```python\n",
    "{\n",
    " 'hello': 3,\n",
    " 'world': 2,\n",
    " 'python': 1\n",
    "}\n",
    "\n",
    "```"
   ],
   "cell_type": "markdown",
   "metadata": {}
  },
  {
   "cell_type": "code",
   "execution_count": null,
   "metadata": {},
   "outputs": [],
   "source": [
    "### YOUR CODE HERE\n",
    "\n",
    "\n"
   ]
  },
  {
   "source": [
    "### Exercise 8: Summing Values by Key\n",
    "\n",
    "**Problem Description:**\n",
    "You have a list of tuples, each containing a key and a number (e.g., product ID and sales amount). Sum the numbers for each key using `defaultdict`.\n",
    "\n",
    "**Test Input:**\n",
    "\n",
    "```python\n",
    "sales = [(\"P1\", 120), (\"P2\", 150), (\"P1\", 220), (\"P3\", 50), (\"P2\", 75)]\n",
    "\n",
    "```\n",
    "\n",
    "**Expected Output:**\n",
    "\n",
    "```python\n",
    "{\n",
    " 'P1': 340,\n",
    " 'P2': 225,\n",
    " 'P3': 50\n",
    "}\n",
    "\n",
    "```"
   ],
   "cell_type": "markdown",
   "metadata": {}
  },
  {
   "cell_type": "code",
   "execution_count": null,
   "metadata": {},
   "outputs": [],
   "source": [
    "### YOUR CODE HERE\n",
    "\n",
    "\n"
   ]
  },
  {
   "source": [
    "### Exercise 9: Inverting a Dictionary\n",
    "\n",
    "**Problem Description:**\n",
    "Given a dictionary where keys are strings and values are lists of strings, invert it so that each string in the original values list becomes a key in the result, and its value is the list of original keys that contained the string. Use `defaultdict` to make handling lists as values easier.\n",
    "\n",
    "**Test Input:**\n",
    "\n",
    "```python\n",
    "input_dict = {\n",
    "    \"key1\": [\"A\", \"B\"],\n",
    "    \"key2\": [\"B\", \"C\"],\n",
    "    \"key3\": [\"C\", \"D\", \"E\"]\n",
    "}\n",
    "\n",
    "```\n",
    "\n",
    "**Expected Output:**\n",
    "\n",
    "```python\n",
    "{\n",
    " 'A': ['key1'],\n",
    " 'B': ['key1', 'key2'],\n",
    " 'C': ['key2', 'key3'],\n",
    " 'D': ['key3'],\n",
    " 'E': ['key3']\n",
    "}\n",
    "\n",
    "```"
   ],
   "cell_type": "markdown",
   "metadata": {}
  },
  {
   "cell_type": "code",
   "execution_count": 6,
   "metadata": {},
   "outputs": [
    {
     "output_type": "stream",
     "name": "stdout",
     "text": [
      "{'A': ['key1'], 'B': ['key1', 'key2'], 'C': ['key2', 'key3'], 'D': ['key3'], 'E': ['key3']}\n"
     ]
    }
   ],
   "source": [
    "from collections import defaultdict\n",
    "### YOUR CODE HERE\n",
    "\n"
   ]
  },
  {
   "source": [
    "### Exercise 10: Aggregating Nested Values\n",
    "\n",
    "**Problem Description:**\n",
    "Consider a data structure where you have a list of dictionaries, each representing an item with a category, name, and value. Aggregate the total value by category using `defaultdict`.\n",
    "\n",
    "**Test Input:**\n",
    "\n",
    "```python\n",
    "items = [\n",
    "    {\"category\": \"Electronics\", \"name\": \"Laptop\", \"value\": 1000},\n",
    "    {\"category\": \"Electronics\", \"name\": \"TV\", \"value\": 500},\n",
    "    {\"category\": \"Furniture\", \"name\": \"Chair\", \"value\": 100},\n",
    "    {\"category\": \"Furniture\", \"name\": \"Table\", \"value\": 150},\n",
    "    {\"category\": \"Electronics\", \"name\": \"Smartphone\", \"value\": 800}\n",
    "]\n",
    "\n",
    "```\n",
    "\n",
    "**Expected Output:**\n",
    "\n",
    "```python\n",
    "{\n",
    " 'Electronics': 2300,\n",
    " 'Furniture': 250\n",
    "}\n",
    "\n",
    "```"
   ],
   "cell_type": "markdown",
   "metadata": {}
  },
  {
   "cell_type": "code",
   "execution_count": null,
   "metadata": {},
   "outputs": [],
   "source": [
    "from collections import defaultdict\n",
    "from itertools import groupby\n",
    "\n",
    "items = [\n",
    "    {\"category\": \"Electronics\", \"name\": \"Laptop\", \"value\": 1000},\n",
    "    {\"category\": \"Electronics\", \"name\": \"TV\", \"value\": 500},\n",
    "    {\"category\": \"Furniture\", \"name\": \"Chair\", \"value\": 100},\n",
    "    {\"category\": \"Furniture\", \"name\": \"Table\", \"value\": 150},\n",
    "    {\"category\": \"Electronics\", \"name\": \"Smartphone\", \"value\": 800}\n",
    "]\n",
    "\n",
    "### YOUR CODE HERE\n",
    "\n",
    "\n"
   ]
  }
 ]
}