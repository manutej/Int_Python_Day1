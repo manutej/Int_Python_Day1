{
 "metadata": {
  "language_info": {
   "codemirror_mode": {
    "name": "ipython",
    "version": 3
   },
   "file_extension": ".py",
   "mimetype": "text/x-python",
   "name": "python",
   "nbconvert_exporter": "python",
   "pygments_lexer": "ipython3",
   "version": "3.8.5"
  },
  "orig_nbformat": 2,
  "kernelspec": {
   "name": "python385jvsc74a57bd0dca0ade3e726a953b501b15e8e990130d2b7799f14cfd9f4271676035ebe5511",
   "display_name": "Python 3.8.5 64-bit ('anaconda3': virtualenv)"
  }
 },
 "nbformat": 4,
 "nbformat_minor": 2,
 "cells": [
  {
   "source": [
    "### `deque` Concept and examples\n",
    "\n",
    "- `deque`: a list-like container with fast appends and pops on either end. \n",
    "\n",
    "`deque` stands for \"double-ended queue\" and can be used when you need a queue that allows adding and removing elements from both ends. \n",
    "\n",
    "Here is an example:\n",
    "\n"
   ],
   "cell_type": "markdown",
   "metadata": {}
  },
  {
   "cell_type": "code",
   "execution_count": 2,
   "metadata": {},
   "outputs": [],
   "source": [
    "\n",
    "from collections import deque\n",
    "d = deque('ghi')  # Initializes the deque with elements 'g', 'h', 'i'\n",
    "d.append('j')  # Adds 'j' to the right side of the deque\n",
    "d.appendleft('f')  # Adds 'f' to the left side of the deque\n"
   ]
  },
  {
   "source": [
    "### Flexibility and Utility\n",
    "- Demonstrates the flexibility of **`deque`** for queue and stack operations, making it suitable for various applications like sliding window techniques.\n",
    "\n",
    "\n",
    "- **Utility**: **`deque`** is optimized for pulling and pushing items from both ends. \n",
    "\n",
    "Its performance is superior to a list when you need to frequently add or remove elements from the start or the end, as it's implemented as a doubly-linked list under the hood.\n",
    "\n",
    "\n",
    "- **Why Use**: Essential for queue implementations, sliding window algorithms, or when you need a stack-like structure with efficient operations on both ends. \n",
    "\n",
    "It's also useful for keeping a limited history of items that's automatically trimmed at either end."
   ],
   "cell_type": "markdown",
   "metadata": {}
  },
  {
   "source": [
    "## Exercises - `deque`\n",
    "\n",
    "### Exercise 1: Basic Operations\n",
    "\n",
    "- **Problem**: Create a **`deque`** with three elements. Use **`appendleft()`** to add an element to the beginning and **`pop()`** to remove an element from the end. Print the final **`deque`**.\n"
   ],
   "cell_type": "markdown",
   "metadata": {}
  },
  {
   "cell_type": "code",
   "execution_count": null,
   "metadata": {},
   "outputs": [],
   "source": [
    "from collections import deque\n",
    "\n",
    "dq = deque([1, 2, 3])\n",
    "dq.appendleft(0)\n",
    "dq.pop()\n",
    "print(dq)  # Output: deque([0, 1, 2])"
   ]
  },
  {
   "source": [
    "### Exercise 2: Rotating Elements\n",
    "\n",
    "- **Problem**: Given a **`deque`**, rotate its elements to the right by 2 positions and then to the left by 1 position. Print the final **`deque`**."
   ],
   "cell_type": "markdown",
   "metadata": {}
  },
  {
   "cell_type": "code",
   "execution_count": null,
   "metadata": {},
   "outputs": [],
   "source": [
    "dq = deque([1, 2, 3, 4])\n",
    "dq.rotate(2)  # Rotate right\n",
    "dq.rotate(-1)  # Rotate left\n",
    "print(dq)  # Output: deque([4, 1, 2, 3])"
   ]
  },
  {
   "source": [
    "### Exercise 3: Max Length\n",
    "\n",
    "- **Problem**: Create a **`deque`** with a maximum length of 3. Add four elements to it and demonstrate that the first element is removed to maintain the max length."
   ],
   "cell_type": "markdown",
   "metadata": {}
  },
  {
   "cell_type": "code",
   "execution_count": null,
   "metadata": {},
   "outputs": [],
   "source": [
    "dq = deque(maxlen=3)\n",
    "dq.extend([1, 2, 3])\n",
    "dq.append(4)\n",
    "print(dq)  # Output: deque([2, 3, 4], maxlen=3)"
   ]
  },
  {
   "source": [
    "### Exercise 4: Clearing a **`deque`**\n",
    "\n",
    "- **Problem**: Instantiate a **`deque`** with several elements. Use the **`clear`** method to remove all elements and print the empty **`deque`**."
   ],
   "cell_type": "markdown",
   "metadata": {}
  },
  {
   "cell_type": "code",
   "execution_count": null,
   "metadata": {},
   "outputs": [],
   "source": [
    "dq = deque([1, 2, 3, 4, 5])\n",
    "dq.clear()\n",
    "print(dq)  # Output: deque([])"
   ]
  },
  {
   "source": [
    "### Exercise 5: Counting Occurrences\n",
    "\n",
    "- **Problem**: Given a **`deque`** with repeating elements, count how many times a specified element appears."
   ],
   "cell_type": "markdown",
   "metadata": {}
  },
  {
   "cell_type": "code",
   "execution_count": null,
   "metadata": {},
   "outputs": [],
   "source": [
    "dq = deque([1, 2, 3, 4, 1, 2, 1])\n",
    "count = dq.count(1)\n",
    "print(count)  # Output: 3"
   ]
  }
 ]
}