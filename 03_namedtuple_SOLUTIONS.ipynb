{
 "metadata": {
  "language_info": {
   "codemirror_mode": {
    "name": "ipython",
    "version": 3
   },
   "file_extension": ".py",
   "mimetype": "text/x-python",
   "name": "python",
   "nbconvert_exporter": "python",
   "pygments_lexer": "ipython3",
   "version": "3.8.5"
  },
  "orig_nbformat": 2,
  "kernelspec": {
   "name": "python385jvsc74a57bd0dca0ade3e726a953b501b15e8e990130d2b7799f14cfd9f4271676035ebe5511",
   "display_name": "Python 3.8.5 64-bit ('anaconda3': virtualenv)"
  }
 },
 "nbformat": 4,
 "nbformat_minor": 2,
 "cells": [
  {
   "source": [
    "### `namedtuple` Concept and examples\n",
    "\n",
    "- A **`namedtuple`** in Python is a fantastic tool from the **`collections`** module that lets you create \"tuple-like\" objects that are accessible via \n",
    "\n",
    "named *attributes* in addition to being **indexable** and **iterable**. \n",
    "\n",
    "This makes your code not just more readable but also **self-documenting**.\n",
    "\n"
   ],
   "cell_type": "markdown",
   "metadata": {}
  },
  {
   "source": [
    "Imagine you're dealing with points in a 2D space; instead of remembering that **`point[0]`** is x and **`point[1]`** is y, you could have **`point.x`** and **`point.y`**! Pretty handy, right? 💡"
   ],
   "cell_type": "markdown",
   "metadata": {}
  },
  {
   "cell_type": "code",
   "execution_count": 1,
   "metadata": {},
   "outputs": [
    {
     "output_type": "stream",
     "name": "stdout",
     "text": [
      "Point's X coordinate: 11\nPoint's Y coordinate: 22\n"
     ]
    }
   ],
   "source": [
    "# Example 1\n",
    "from collections import namedtuple\n",
    "Point = namedtuple('Point', ['x', 'y'])\n",
    "\n",
    "# Creating an instance of Point\n",
    "point = Point(11, y=22)\n",
    "\n",
    "# Accessing the elements\n",
    "print(f\"Point's X coordinate: {point.x}\")  # Outputs: 11\n",
    "print(f\"Point's Y coordinate: {point.y}\")  # Outputs: 22"
   ]
  },
  {
   "source": [
    "\n",
    "💡 **What is it?** Imagine a tuple, but each element can also be accessed by a name! This makes your code more readable and self-documenting. 💡\n",
    "\n",
    "**Use Case**: When you have data that won't change, like the coordinates of a point **`(x, y)`**, you can use a **`namedtuple`** to make it clear which value is which.\n",
    "\n"
   ],
   "cell_type": "markdown",
   "metadata": {}
  },
  {
   "source": [
    "`namedtuple` is a factory function for creating tuple subclasses with named fields. \n",
    "\n",
    "This makes your code more readable and self-descriptive. \n",
    "\n",
    "For instance, instead of using a regular tuple, where you have to remember the index of each field, you can use a `namedtuple`, where you can access the fields by name. "
   ],
   "cell_type": "markdown",
   "metadata": {}
  },
  {
   "cell_type": "code",
   "execution_count": null,
   "metadata": {},
   "outputs": [],
   "source": [
    "# Example 2\n",
    "from collections import namedtuple\n",
    "\n",
    "# Define a namedtuple\n",
    "Person = namedtuple('Person', ['name', 'age'])\n",
    "\n",
    "# Create a namedtuple instance\n",
    "person1 = Person('Alice', 30)\n",
    "print(person1.name)  # Output: Alice\n"
   ]
  },
  {
   "source": [
    "### Utility\n",
    "`namedtuple` provides a lightweight way to create tuple-like objects with named fields, which can be accessed with `attribute` lookup as well as being indexable and iterable. \n",
    "\n",
    "This makes your code self-documenting and more readable, as opposed to using regular tuples where you need to remember the index of each field. "
   ],
   "cell_type": "markdown",
   "metadata": {}
  },
  {
   "source": [
    "### Why use namedtuple? \n",
    "It combines the simplicity of tuples (immutable and lightweight) with the readability of objects without the overhead of a full class definition. 🛠️\n",
    "\n"
   ],
   "cell_type": "markdown",
   "metadata": {}
  },
  {
   "source": [
    "Use `namedtuple` when you need a simple class to store data without the overhead of traditional classes. \n",
    "\n",
    "It's especially useful in data parsing, CSV reading tasks, or when passing structured data between functions."
   ],
   "cell_type": "markdown",
   "metadata": {}
  },
  {
   "source": [
    "## Exercises"
   ],
   "cell_type": "markdown",
   "metadata": {}
  },
  {
   "source": [
    "### Exercise 1: Basic **`namedtuple`** Creation\n",
    "\n",
    "- **Problem**: Create a **`namedtuple`** called **`Car`** with fields **`make`**, **`model`**, and **`year`**. Instantiate it with the values \"Toyota\", \"Camry\", \"2020\", and print the **`model`** of the car."
   ],
   "cell_type": "markdown",
   "metadata": {}
  },
  {
   "cell_type": "code",
   "execution_count": null,
   "metadata": {},
   "outputs": [],
   "source": [
    "### YOUR CODE HERE\n",
    "from collections import namedtuple\n",
    "\n",
    "Car = namedtuple('Car', ['make', 'model', 'year'])\n",
    "car1 = Car(\"Toyota\", \"Camry\", \"2020\")\n",
    "print(car1.model)  # Output: Camry\n"
   ]
  },
  {
   "source": [
    "### Exercise 2: Accessing **`namedtuple`** Fields\n",
    "\n",
    "- **Problem**: Given a **`namedtuple`** **`Person`** with fields **`name`** and **`age`**, create an instance with your chosen name and age, and print each field individually."
   ],
   "cell_type": "markdown",
   "metadata": {}
  },
  {
   "source": [
    "### YOUR CODE HERE\n",
    "\n",
    "Person = namedtuple('Person', ['name', 'age'])\n",
    "person1 = Person(\"Alice\", 30)\n",
    "print(person1.name)  # Output: Alice\n",
    "print(person1.age)   # Output: 30"
   ],
   "cell_type": "code",
   "metadata": {},
   "execution_count": 3,
   "outputs": [
    {
     "output_type": "stream",
     "name": "stdout",
     "text": [
      "Alice\n30\n"
     ]
    }
   ]
  },
  {
   "source": [
    "### Exercise 3: Modifying **`namedtuple`** Instances\n",
    "\n",
    "- **Problem**: Explain why **`namedtuple`** instances are immutable and demonstrate how to 'change' the **`age`** field of a **`Person`** **`namedtuple`** from the previous exercise to a new value."
   ],
   "cell_type": "markdown",
   "metadata": {}
  },
  {
   "cell_type": "code",
   "execution_count": 4,
   "metadata": {},
   "outputs": [
    {
     "output_type": "stream",
     "name": "stdout",
     "text": [
      "31\n"
     ]
    }
   ],
   "source": [
    "# Explanation: namedtuple instances are immutable, \n",
    "#meaning their fields cannot be changed once set.\n",
    "# To 'modify' a namedtuple, you can use the _replace method\n",
    "# to create a new instance with the changed value.\n",
    "\n",
    "### YOUR CODE HERE\n",
    "\n",
    "person2 = person1._replace(age=31)\n",
    "print(person2.age)  # Output: 31\n"
   ]
  },
  {
   "source": [
    "### Exercise 4: Converting **`namedtuple`** to Dictionary\n",
    "\n",
    "- **Problem**: Convert the **`Person`** **`namedtuple`** to a dictionary and print the dictionary."
   ],
   "cell_type": "markdown",
   "metadata": {}
  },
  {
   "cell_type": "code",
   "execution_count": null,
   "metadata": {},
   "outputs": [],
   "source": [
    "### YOUR CODE HERE\n",
    "\n",
    "person_dict = person1._asdict()\n",
    "print(person_dict)  # Output: OrderedDict([('name', 'Alice'), ('age', 30)])"
   ]
  },
  {
   "source": [
    "### Exercise 5: Using **`namedtuple`** for CSV Parsing\n",
    "\n",
    "- **Problem**: Given a list of tuples representing rows from a CSV file, such as **`[(\"Alice\", 30), (\"Bob\", 25)]`**, parse this data into a list of **`Person`** **`namedtuple`**s and print the list."
   ],
   "cell_type": "markdown",
   "metadata": {}
  },
  {
   "cell_type": "code",
   "execution_count": null,
   "metadata": {},
   "outputs": [],
   "source": [
    "### YOUR CODE HERE\n",
    "\n",
    "csv_data = [(\"Alice\", 30), (\"Bob\", 25)]\n",
    "people = [Person(name, age) for name, age in csv_data]\n",
    "print(people)  # Output: [Person(name='Alice', age=30), Person(name='Bob', age=25)]"
   ]
  },
  {
   "source": [
    "### **Exercise 6 - Stock Trading**\n",
    "\n",
    "- Make Trade `namedtuple`: symbol, shares, price\n",
    "- Create list of trades made in current session\n",
    "- Print total value of trades (shares * price)"
   ],
   "cell_type": "markdown",
   "metadata": {}
  },
  {
   "cell_type": "code",
   "execution_count": null,
   "metadata": {},
   "outputs": [],
   "source": [
    "### YOUR CODE HERE\n",
    "\n",
    "from collections import namedtuple\n",
    "\n",
    "Trade = namedtuple('Trade', ['symbol', 'shares', 'price'])\n",
    "\n",
    "trades = [Trade('TSLA', 32000, 54.00),  \n",
    "          Trade('NVDA', 48000, 200.00),\n",
    "          Trade('MSFT', 4234, 245.00)]\n",
    "\n",
    "total_value = sum(t.shares * t.price for t in trades) \n",
    "print(total_value)"
   ]
  },
  {
   "source": [
    "### **Book Library**\n",
    "\n",
    "- Make `Book` tuple: `title`, `author`, `publish_year`\n",
    "- Group books by author into dict\n",
    "- Print dict showing author and their books"
   ],
   "cell_type": "markdown",
   "metadata": {}
  },
  {
   "cell_type": "code",
   "execution_count": null,
   "metadata": {},
   "outputs": [],
   "source": [
    "### YOUR CODE HERE\n",
    "\n",
    "from collections import namedtuple \n",
    "from itertools import groupby\n",
    "\n",
    "Book = namedtuple('Book', ['title', 'author', 'publish_year'])\n",
    "\n",
    "books = [Book('For Whom the Bell Tolls', 'Ernest Hemingway', 1940),\n",
    "         Book('Moby Dick', 'Herman Melville', 1851)]\n",
    "\n",
    "grouped = groupby(books, lambda b: b.author)\n",
    "for author, group in grouped:\n",
    "    print(author, list(group))"
   ]
  },
  {
   "source": [
    "### **Shopping Cart**\n",
    "\n",
    "- Make Item tuple: `product_id`, `desc`, `price`, `qty`\n",
    "- Make `Cart` `namedtuple`: `user_id`, `items` (`list`)\n",
    "- Create cart, add 2 items, print items"
   ],
   "cell_type": "markdown",
   "metadata": {}
  },
  {
   "cell_type": "code",
   "execution_count": null,
   "metadata": {},
   "outputs": [],
   "source": [
    "### YOUR CODE HERE\n",
    "\n",
    "from collections import namedtuple\n",
    "\n",
    "Item = namedtuple('Item', ['product_id', 'desc', 'price', 'qty'])\n",
    "Cart = namedtuple('Cart', ['user_id', 'items'])\n",
    "\n",
    "phone_case = Item(123, 'Phone Case', 40, 1) \n",
    "charger = Item(1234, 'Charger', 20, 1)\n",
    "\n",
    "manu_cart = Cart('0529', [phone_case, charger])\n",
    "print(manu_cart.items)"
   ]
  },
  {
   "source": [
    "### **Exercise 9 - Website Visitors**\n",
    "\n",
    "- Make Visitor tuple: ip_address, webpage, timestamp\n",
    "- Create list of last 5 visitors\n",
    "- Print most frequent visitor IP"
   ],
   "cell_type": "markdown",
   "metadata": {}
  },
  {
   "cell_type": "code",
   "execution_count": null,
   "metadata": {},
   "outputs": [],
   "source": [
    "### YOUR CODE HERE\n",
    "\n",
    "# Website Visitors\n",
    "\n",
    "from collections import namedtuple\n",
    "import random\n",
    "from datetime import datetime\n",
    "\n",
    "Visitor = namedtuple('Visitor', ['name', 'ip', 'webpage', 'timestamp'])\n",
    "\n",
    "visitors = [\n",
    "   Visitor(name=random.choice([\"Ann\", \"Joe\", \"Liz\"]), \n",
    "           ip=f\"{random.randint(0,255)}.{random.randint(0,255)}.{random.randint(0,255)}.{random.randint(0,255)}\",\n",
    "           webpage=random.choice([\"home\", \"about\", \"contact\"]), \n",
    "           timestamp=datetime.now())\n",
    "    for _ in range(10)\n",
    "]\n",
    "\n",
    "ips = [v.ip for v in visitors]  \n",
    "print(f\"Most common IP: {max(set(ips), key=ips.count)}\")"
   ]
  },
  {
   "source": [
    "### Exercise 10: **Package Delivery**\n",
    "\n",
    "- Make Delivery tuple: tracking_num, address, status\n",
    "- Create list of shipments with statuses\n",
    "- Group shipments by status and print"
   ],
   "cell_type": "markdown",
   "metadata": {}
  },
  {
   "cell_type": "code",
   "execution_count": null,
   "metadata": {},
   "outputs": [],
   "source": [
    "### YOUR CODE HERE\n",
    "\n",
    "from collections import namedtuple\n",
    "from itertools import groupby\n",
    "\n",
    "Delivery = namedtuple(\"Delivery\",['tracking_num','address','status'])\n",
    "ship1 = Delivery(14930239,'323 Go Way','Shipped')\n",
    "ship2 = Delivery(32039200, '424 Hey Hey Way','Delivered')\n",
    "ship3 = Delivery(33920389, '2442 main day way', 'Shipped')\n",
    "ship4 = Delivery(20342030, '2424 up up and away way','Delivered')\n",
    "shipments = [ship1,ship2,ship3,ship4]\n",
    "grouped_shipments = groupby(shipments, key = lambda s:s.status)\n",
    "for s, group in grouped_shipments:\n",
    "    print(s,list(group))"
   ]
  }
 ]
}