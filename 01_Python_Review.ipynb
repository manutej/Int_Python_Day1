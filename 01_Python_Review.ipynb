{
 "metadata": {
  "language_info": {
   "codemirror_mode": {
    "name": "ipython",
    "version": 3
   },
   "file_extension": ".py",
   "mimetype": "text/x-python",
   "name": "python",
   "nbconvert_exporter": "python",
   "pygments_lexer": "ipython3",
   "version": "3.11.8"
  },
  "orig_nbformat": 2,
  "kernelspec": {
   "name": "python3118jvsc74a57bd0e8c0eacf9dbd1a082fdc91d3f0b4afdd85e0444c86173fdfd39eac7d4c4a7f29",
   "display_name": "Python 3.11.8 64-bit ('myenv')"
  },
  "metadata": {
   "interpreter": {
    "hash": "e8c0eacf9dbd1a082fdc91d3f0b4afdd85e0444c86173fdfd39eac7d4c4a7f29"
   }
  }
 },
 "nbformat": 4,
 "nbformat_minor": 2,
 "cells": [
  {
   "source": [
    "## Let's Start our Review of Python "
   ],
   "cell_type": "markdown",
   "metadata": {}
  },
  {
   "cell_type": "code",
   "execution_count": 1,
   "metadata": {},
   "outputs": [
    {
     "output_type": "stream",
     "name": "stdout",
     "text": [
      "The Zen of Python, by Tim Peters\n\nBeautiful is better than ugly.\nExplicit is better than implicit.\nSimple is better than complex.\nComplex is better than complicated.\nFlat is better than nested.\nSparse is better than dense.\nReadability counts.\nSpecial cases aren't special enough to break the rules.\nAlthough practicality beats purity.\nErrors should never pass silently.\nUnless explicitly silenced.\nIn the face of ambiguity, refuse the temptation to guess.\nThere should be one-- and preferably only one --obvious way to do it.\nAlthough that way may not be obvious at first unless you're Dutch.\nNow is better than never.\nAlthough never is often better than *right* now.\nIf the implementation is hard to explain, it's a bad idea.\nIf the implementation is easy to explain, it may be a good idea.\nNamespaces are one honking great idea -- let's do more of those!\n"
     ]
    }
   ],
   "source": [
    "import this"
   ]
  },
  {
   "source": [
    "[The Zen Of Python Explained With Examples](https://www.codeconquest.com/blog/the-zen-of-python-explained-with-examples/)"
   ],
   "cell_type": "markdown",
   "metadata": {}
  },
  {
   "source": [
    "## Some Examples of Zen"
   ],
   "cell_type": "markdown",
   "metadata": {}
  },
  {
   "source": [
    "### One and Preferably One Obvious way to do it"
   ],
   "cell_type": "markdown",
   "metadata": {}
  },
  {
   "cell_type": "code",
   "execution_count": 3,
   "metadata": {},
   "outputs": [
    {
     "output_type": "execute_result",
     "data": {
      "text/plain": [
       "'dlroW olleH'"
      ]
     },
     "metadata": {},
     "execution_count": 3
    }
   ],
   "source": [
    "def reverse(myStr):\n",
    "    if myStr:\n",
    "        return reverse(myStr[1:])+myStr[0]\n",
    "    else:\n",
    "        return myStr\n",
    "reverse('Hello World')"
   ]
  },
  {
   "cell_type": "code",
   "execution_count": 4,
   "metadata": {},
   "outputs": [
    {
     "output_type": "execute_result",
     "data": {
      "text/plain": [
       "'dlroW olleH'"
      ]
     },
     "metadata": {},
     "execution_count": 4
    }
   ],
   "source": [
    "'Hello World'[::-1]"
   ]
  },
  {
   "cell_type": "code",
   "execution_count": 9,
   "metadata": {},
   "outputs": [],
   "source": [
    "# Not obvious\n",
    "def sum_numbers(numbers):\n",
    "    result = 0\n",
    "    for num in numbers:\n",
    "        result += num\n",
    "    return result\n",
    "\n",
    "# Obvious (to a Pythonista)\n",
    "def sum_numbers(numbers):\n",
    "    return sum(numbers)"
   ]
  },
  {
   "source": [
    "### Beautiful is better than Ugly"
   ],
   "cell_type": "markdown",
   "metadata": {}
  },
  {
   "cell_type": "code",
   "execution_count": null,
   "metadata": {},
   "outputs": [],
   "source": [
    "def my_get_even_function(numbers)\n",
    "evens  = []\n",
    "\n",
    "for num in numbers:\n",
    "    if num % 2 == 0:\n",
    "numbers = [1,2,3,4,5,6,7,8,9,10]\n",
    "my_get_even_function(numbers)\n"
   ]
  },
  {
   "cell_type": "code",
   "execution_count": null,
   "metadata": {},
   "outputs": [],
   "source": [
    "evens = [x for x in range(1, 11) if x % 2 == 0]\n"
   ]
  },
  {
   "cell_type": "code",
   "execution_count": 2,
   "metadata": {},
   "outputs": [
    {
     "output_type": "stream",
     "name": "stdout",
     "text": [
      "3\n3\n"
     ]
    }
   ],
   "source": [
    "# Unreadable\n",
    "x=1;y=2;z=x+y;print(z)\n",
    "\n",
    "# Readable\n",
    "x = 1\n",
    "y = 2\n",
    "z = x + y\n",
    "print(z)"
   ]
  },
  {
   "source": [
    "Did you bring habits from another programming language? You know who you are. ;)\n",
    "\n",
    "\n"
   ],
   "cell_type": "markdown",
   "metadata": {}
  },
  {
   "source": [
    "### Simple is better than Complex, Complex is better than Complicated."
   ],
   "cell_type": "markdown",
   "metadata": {}
  },
  {
   "source": [
    "Numbers=[1,2,3,4,5,6,7,8,9,10]\n",
    "evenSquares=[]\n",
    "for number in Numbers:\n",
    "    if number%2==0:\n",
    "        square=number**2\n",
    "        evenSquares.append(square)\n",
    "evenSquares"
   ],
   "cell_type": "code",
   "metadata": {},
   "execution_count": 8,
   "outputs": [
    {
     "output_type": "execute_result",
     "data": {
      "text/plain": [
       "[4, 16, 36, 64, 100]"
      ]
     },
     "metadata": {},
     "execution_count": 8
    }
   ]
  },
  {
   "source": [
    "### or ...this"
   ],
   "cell_type": "markdown",
   "metadata": {}
  },
  {
   "cell_type": "code",
   "execution_count": 7,
   "metadata": {},
   "outputs": [
    {
     "output_type": "stream",
     "name": "stdout",
     "text": [
      "[4, 16, 36, 64, 100]\n"
     ]
    }
   ],
   "source": [
    "x=[1,2,3,4,5,6,7,8,9,10] #numbers\n",
    "y=[] #even squares\n",
    "\n",
    "for i in x: \n",
    "    if i%2==0: \n",
    "        y.append(i**2)\n",
    "print(y)"
   ]
  },
  {
   "cell_type": "code",
   "execution_count": null,
   "metadata": {},
   "outputs": [],
   "source": [
    "### or this..."
   ]
  },
  {
   "cell_type": "code",
   "execution_count": 4,
   "metadata": {},
   "outputs": [
    {
     "output_type": "execute_result",
     "data": {
      "text/plain": [
       "[4, 16, 36, 64, 100]"
      ]
     },
     "metadata": {},
     "execution_count": 4
    }
   ],
   "source": [
    "[num**2 for num in range(1,11) if num % 2 == 0]"
   ]
  },
  {
   "source": [
    "**Learning**: Beginner Python may have built some... HABITS...that need to be unlearned.\n",
    "\n",
    "namingConventions --> naming_conventions\n",
    "\n",
    "Python Indentations\n",
    "   make life easier.\n",
    "        TAB != 4 spaces (on all systems)\n",
    "\n",
    "\"Negative Space\" \n",
    "\n",
    "Beginner -> Pythonic Code\n"
   ],
   "cell_type": "markdown",
   "metadata": {}
  },
  {
   "source": [
    "Writing readable code is not easy, but it is worth it, if ONLY in service to yourself 5 days from now. \n",
    "\n",
    "Style formatters help, but it is the coder not the code."
   ],
   "cell_type": "markdown",
   "metadata": {}
  },
  {
   "source": [
    "### Errors Should Never Pass Silently. Unless Explicitly Silenced"
   ],
   "cell_type": "markdown",
   "metadata": {}
  },
  {
   "cell_type": "code",
   "execution_count": 17,
   "metadata": {},
   "outputs": [],
   "source": [
    "def divide1(a,b):\n",
    "    try:\n",
    "        return a/b\n",
    "    except:\n",
    "        pass"
   ]
  },
  {
   "cell_type": "code",
   "execution_count": 18,
   "metadata": {},
   "outputs": [],
   "source": [
    "def divide2(a,b):\n",
    "    try:\n",
    "        return a/b\n",
    "    except ZeroDivisionError:\n",
    "        print(\"Error occurred. Pass a Non-zero denominator.\")\n",
    "        exit()"
   ]
  },
  {
   "cell_type": "code",
   "execution_count": 21,
   "metadata": {},
   "outputs": [],
   "source": [
    "divide1(5,0)"
   ]
  },
  {
   "cell_type": "code",
   "execution_count": 22,
   "metadata": {},
   "outputs": [
    {
     "output_type": "stream",
     "name": "stdout",
     "text": [
      "Error occurred. Pass a Non-zero denominator.\n"
     ]
    }
   ],
   "source": [
    "divide2(5,0)"
   ]
  },
  {
   "source": [
    "### Book Recommendations:\n",
    "The Pragmatic Programmer by David Thomas\n",
    "\n",
    "Fluent Python by Luciano Ramalho\n",
    "\n"
   ],
   "cell_type": "markdown",
   "metadata": {}
  },
  {
   "source": [
    "The Zen of Python is not found \n",
    "\n",
    "in philosophies, \n",
    "\n",
    "or examples, \n",
    "\n",
    "or even in Code.\n",
    "\n",
    "It is the Coder, not the Code \n",
    "\n",
    "For the code speaks for you,\n",
    "\n",
    "Who Moves Mountains (of keys)\n",
    "\n"
   ],
   "cell_type": "markdown",
   "metadata": {}
  },
  {
   "source": [
    "## Enough Cheesy Stuff, let's Code! \n",
    "\n",
    "### (This is the Way.)"
   ],
   "cell_type": "markdown",
   "metadata": {}
  },
  {
   "source": [
    "### Dynamic Typing:\n",
    "\n",
    "Declare variables of different types and print their types\n"
   ],
   "cell_type": "markdown",
   "metadata": {}
  },
  {
   "cell_type": "code",
   "execution_count": 11,
   "metadata": {},
   "outputs": [
    {
     "output_type": "stream",
     "name": "stdout",
     "text": [
      "<class 'int'>\n<class 'str'>\n<class 'list'>\n"
     ]
    }
   ],
   "source": [
    "a = 5\n",
    "b = \"hello\"\n",
    "c = [1, 2, 3]\n",
    "print(type(a))  # Output: <class 'int'>\n",
    "print(type(b))  # Output: <class 'str'>\n",
    "print(type(c))  # Output: <class 'list'>"
   ]
  },
  {
   "source": [
    "Reassign a variable to a different type and observe the change"
   ],
   "cell_type": "markdown",
   "metadata": {}
  },
  {
   "cell_type": "code",
   "execution_count": 12,
   "metadata": {},
   "outputs": [
    {
     "output_type": "stream",
     "name": "stdout",
     "text": [
      "<class 'int'>\n<class 'str'>\n"
     ]
    }
   ],
   "source": [
    "x = 10\n",
    "print(type(x))  # Output: <class 'int'>\n",
    "x = \"world\"\n",
    "print(type(x))  # Output: <class 'str'>"
   ]
  },
  {
   "source": [
    "#### Compared with...\n",
    "\n",
    "### Strong Typing"
   ],
   "cell_type": "markdown",
   "metadata": {}
  },
  {
   "cell_type": "code",
   "execution_count": 13,
   "metadata": {},
   "outputs": [
    {
     "output_type": "stream",
     "name": "stdout",
     "text": [
      "Error: unsupported operand type(s) for +: 'int' and 'str'\n"
     ]
    }
   ],
   "source": [
    "try:\n",
    "    result = 5 + \"10\"\n",
    "except TypeError as e:\n",
    "    print(\"Error:\", str(e))"
   ]
  },
  {
   "cell_type": "code",
   "execution_count": 14,
   "metadata": {},
   "outputs": [
    {
     "output_type": "stream",
     "name": "stdout",
     "text": [
      "15\n"
     ]
    }
   ],
   "source": [
    "x = 5\n",
    "y = \"10\"\n",
    "result = x + int(y)\n",
    "print(result)  # Output: 15"
   ]
  },
  {
   "source": [
    "### Duck Typing\n",
    "\n",
    "...if it looks like a duck and quacks like a duck, it's a duck."
   ],
   "cell_type": "markdown",
   "metadata": {}
  },
  {
   "cell_type": "code",
   "execution_count": 15,
   "metadata": {},
   "outputs": [
    {
     "output_type": "execute_result",
     "data": {
      "text/plain": [
       "'25'"
      ]
     },
     "metadata": {},
     "execution_count": 15
    }
   ],
   "source": [
    "def to_string(obj):\n",
    "    if hasattr(obj, \"__str__\"):\n",
    "        return str(obj)\n",
    "    else:\n",
    "        return \"Object does not have a __str__ method\"\n",
    "to_string(25)"
   ]
  },
  {
   "cell_type": "code",
   "execution_count": 16,
   "metadata": {},
   "outputs": [
    {
     "output_type": "execute_result",
     "data": {
      "text/plain": [
       "'25.0'"
      ]
     },
     "metadata": {},
     "execution_count": 16
    }
   ],
   "source": [
    "to_string(25.0)"
   ]
  },
  {
   "cell_type": "code",
   "execution_count": 18,
   "metadata": {},
   "outputs": [
    {
     "output_type": "execute_result",
     "data": {
      "text/plain": [
       "'[25]'"
      ]
     },
     "metadata": {},
     "execution_count": 18
    }
   ],
   "source": [
    "a = [25]\n",
    "to_string(a)"
   ]
  },
  {
   "cell_type": "code",
   "execution_count": 23,
   "metadata": {},
   "outputs": [
    {
     "output_type": "stream",
     "name": "stdout",
     "text": [
      "we went to the python forest, and found a very big lake 2day\n"
     ]
    }
   ],
   "source": [
    "print(f'we went to the python forest, and found a very big lake {to_string(2)}day')"
   ]
  },
  {
   "source": [
    "### Built-in Functions...and Why they Exist"
   ],
   "cell_type": "markdown",
   "metadata": {}
  },
  {
   "cell_type": "code",
   "execution_count": 24,
   "metadata": {},
   "outputs": [],
   "source": [
    "### Spot the Built-in gems\n",
    "def calculate_average(numbers):\n",
    "    sum_of_numbers = 0\n",
    "    for number in numbers:\n",
    "        sum_of_numbers += number\n",
    "    average = sum_of_numbers / len(numbers)\n",
    "    return average\n",
    "calculate_average([1,2,4,5,6])\n",
    "\n",
    "def calculate_average(numbers):\n",
    "    return sum(numbers) / len(numbers)\n",
    "    "
   ]
  },
  {
   "source": [
    "### Built-in Functions are your friends. And they are faster. "
   ],
   "cell_type": "markdown",
   "metadata": {}
  },
  {
   "cell_type": "code",
   "execution_count": null,
   "metadata": {},
   "outputs": [],
   "source": [
    "words = [\"apple\", \"banana\", \"cherry\", \"date\"]\n",
    "sorted_words = sorted(words)\n",
    "print(sorted_words)  # Output: ['apple', 'banana', 'cherry', 'date']\n"
   ]
  },
  {
   "source": [
    "Imagine if `words` had 10,000 or more elements...the difference becomes increasingly obvious.\n",
    "\n",
    "### performance matters."
   ],
   "cell_type": "markdown",
   "metadata": {}
  },
  {
   "source": [
    "### Mutable vs. Immutable Objects\n",
    "Mutable Objects:\n",
    "\n",
    "Can be changed after creation\n",
    "- Examples: lists, dictionaries\n",
    "\n",
    "Create a list and modify an element\n"
   ],
   "cell_type": "markdown",
   "metadata": {}
  },
  {
   "cell_type": "code",
   "execution_count": 26,
   "metadata": {},
   "outputs": [
    {
     "output_type": "stream",
     "name": "stdout",
     "text": [
      "[1, 4, 3]\n"
     ]
    }
   ],
   "source": [
    "my_list = [1, 2, 3]\n",
    "my_list[1] = 4\n",
    "print(my_list)  # Output: [1, 4, 3]"
   ]
  },
  {
   "source": [
    "Create a dictionary and add a new key-value pair"
   ],
   "cell_type": "markdown",
   "metadata": {}
  },
  {
   "cell_type": "code",
   "execution_count": 27,
   "metadata": {},
   "outputs": [
    {
     "output_type": "stream",
     "name": "stdout",
     "text": [
      "{'a': 1, 'b': 2, 'c': 3}\n"
     ]
    }
   ],
   "source": [
    "my_dict = {\"a\": 1, \"b\": 2}\n",
    "my_dict[\"c\"] = 3\n",
    "print(my_dict)  # Output: {\"a\": 1, \"b\": 2, \"c\": 3}"
   ]
  },
  {
   "source": [
    "### more on advanced dictionary types soon..."
   ],
   "cell_type": "markdown",
   "metadata": {}
  },
  {
   "source": [
    "### Immutable Objects:\n",
    "\n",
    "- cannot be changed after creation\n",
    "\n",
    "\n",
    "### like strings\n"
   ],
   "cell_type": "markdown",
   "metadata": {}
  },
  {
   "cell_type": "code",
   "execution_count": 29,
   "metadata": {},
   "outputs": [
    {
     "output_type": "error",
     "ename": "TypeError",
     "evalue": "'str' object does not support item assignment",
     "traceback": [
      "\u001b[0;31m---------------------------------------------------------------------------\u001b[0m",
      "\u001b[0;31mTypeError\u001b[0m                                 Traceback (most recent call last)",
      "Cell \u001b[0;32mIn[29], line 2\u001b[0m\n\u001b[1;32m      1\u001b[0m my_string \u001b[38;5;241m=\u001b[39m \u001b[38;5;124m\"\u001b[39m\u001b[38;5;124mhello\u001b[39m\u001b[38;5;124m\"\u001b[39m\n\u001b[0;32m----> 2\u001b[0m \u001b[43mmy_string\u001b[49m\u001b[43m[\u001b[49m\u001b[38;5;241;43m0\u001b[39;49m\u001b[43m]\u001b[49m \u001b[38;5;241m=\u001b[39m \u001b[38;5;124m\"\u001b[39m\u001b[38;5;124mH\u001b[39m\u001b[38;5;124m\"\u001b[39m  \u001b[38;5;66;03m# Raises a TypeError\u001b[39;00m\n\u001b[1;32m      3\u001b[0m \u001b[38;5;28mprint\u001b[39m(my_string)\n",
      "\u001b[0;31mTypeError\u001b[0m: 'str' object does not support item assignment"
     ]
    }
   ],
   "source": [
    "my_string = \"hello\"\n",
    "my_string[0] = \"H\"  # Raises a TypeError\n",
    "print(my_string)"
   ]
  },
  {
   "source": [
    "### or a tuple"
   ],
   "cell_type": "markdown",
   "metadata": {}
  },
  {
   "cell_type": "code",
   "execution_count": 33,
   "metadata": {},
   "outputs": [
    {
     "output_type": "error",
     "ename": "TypeError",
     "evalue": "'tuple' object does not support item assignment",
     "traceback": [
      "\u001b[0;31m---------------------------------------------------------------------------\u001b[0m",
      "\u001b[0;31mTypeError\u001b[0m                                 Traceback (most recent call last)",
      "Cell \u001b[0;32mIn[33], line 2\u001b[0m\n\u001b[1;32m      1\u001b[0m my_tuple \u001b[38;5;241m=\u001b[39m (\u001b[38;5;241m0\u001b[39m,\u001b[38;5;241m1\u001b[39m)\n\u001b[0;32m----> 2\u001b[0m \u001b[43mmy_tuple\u001b[49m\u001b[43m[\u001b[49m\u001b[38;5;241;43m0\u001b[39;49m\u001b[43m]\u001b[49m \u001b[38;5;241m=\u001b[39m \u001b[38;5;241m9\u001b[39m \u001b[38;5;66;03m# again, a TypeError\u001b[39;00m\n",
      "\u001b[0;31mTypeError\u001b[0m: 'tuple' object does not support item assignment"
     ]
    }
   ],
   "source": [
    "my_tuple = (0,1)\n",
    "my_tuple[0] = 9 # again, a TypeError"
   ]
  },
  {
   "source": [
    "### tuples have a workaround in `namedtuple` ...stay tuned."
   ],
   "cell_type": "markdown",
   "metadata": {}
  },
  {
   "source": [
    "### Create a new string by concatenating two strings"
   ],
   "cell_type": "markdown",
   "metadata": {}
  },
  {
   "cell_type": "code",
   "execution_count": 35,
   "metadata": {},
   "outputs": [
    {
     "output_type": "stream",
     "name": "stdout",
     "text": [
      "hello planet\n"
     ]
    }
   ],
   "source": [
    "str1 = \"hello\"\n",
    "str2 = \"planet\"\n",
    "new_string = str1 + \" \" + str2\n",
    "print(new_string)  # Output: \"hello planet\""
   ]
  },
  {
   "source": [
    "### Characteristics of Pythonic Code\n",
    "if an object is difficult to work with, consider changing its type\n",
    "\n",
    "`container[-1]` is the last item in the container\n",
    "\n",
    "`container[-n]` is the nth from the last item in the container\n",
    "\n",
    "compose function where appropriate, e.g., `int(input(...))`\n",
    "\n",
    "`[:n]` means the first n items in a container\n",
    "\n",
    "`[-n:]` means the last n items in a container\n",
    "\n",
    "`[::-1]` means a reversed version of the container\n",
    "\n",
    "don't use indexing in str/list/container, if you don't need it\n",
    "\n",
    "1-liners are better than multi-liners\n",
    "\n",
    "    unless they confuse more than they make clear\n"
   ],
   "cell_type": "markdown",
   "metadata": {}
  },
  {
   "source": [
    "if an object is difficult to work with, consider changing its type\n"
   ],
   "cell_type": "markdown",
   "metadata": {}
  },
  {
   "cell_type": "code",
   "execution_count": null,
   "metadata": {},
   "outputs": [],
   "source": [
    "data = [2,4,5,'7',8,'9']\n",
    "# Un-Pythonic\n",
    "def process_data1(data):\n",
    "    for i in range(len(data)):\n",
    "        data[i] = int(data[i])\n",
    "    return sum(data)\n",
    "\n",
    "# Pythonic\n",
    "def process_data2(data):\n",
    "    return sum(map(int, data))\n"
   ]
  },
  {
   "source": [
    "### negative indexing\n",
    "`container[-1]` is the last item in the container\n"
   ],
   "cell_type": "markdown",
   "metadata": {}
  },
  {
   "cell_type": "code",
   "execution_count": null,
   "metadata": {},
   "outputs": [],
   "source": [
    "my_list = [1, 2, 3, 4, 5]\n",
    "last_item = my_list[-1]\n",
    "print(last_item)  # Output: 5"
   ]
  },
  {
   "source": [
    "`container[-n]` is the nth from the last item in the container\n"
   ],
   "cell_type": "markdown",
   "metadata": {}
  },
  {
   "cell_type": "code",
   "execution_count": 37,
   "metadata": {},
   "outputs": [
    {
     "output_type": "stream",
     "name": "stdout",
     "text": [
      "3\n"
     ]
    }
   ],
   "source": [
    "my_list = [1, 2, 3, 4, 5]\n",
    "third_from_last = my_list[-3]\n",
    "print(third_from_last)  # Output: 3"
   ]
  },
  {
   "source": [
    "### slice 'em, dice 'em, flip 'em.\n",
    "`[:n]` means the first n items in a container\n",
    "\n"
   ],
   "cell_type": "markdown",
   "metadata": {}
  },
  {
   "cell_type": "code",
   "execution_count": null,
   "metadata": {},
   "outputs": [],
   "source": [
    "my_list = [1, 2, 3, 4, 5]\n",
    "first_three = my_list[:3]\n",
    "print(first_three)  # Output: [1, 2, 3]"
   ]
  },
  {
   "source": [
    "`[-n:]` means the last n items in a container"
   ],
   "cell_type": "markdown",
   "metadata": {}
  },
  {
   "cell_type": "code",
   "execution_count": null,
   "metadata": {},
   "outputs": [],
   "source": [
    "my_list = [1, 2, 3, 4, 5]\n",
    "last_two = my_list[-2:]\n",
    "print(last_two)  # Output: [4, 5]"
   ]
  },
  {
   "source": [
    "`[::-1]` means a reversed version of the container"
   ],
   "cell_type": "markdown",
   "metadata": {}
  },
  {
   "cell_type": "code",
   "execution_count": null,
   "metadata": {},
   "outputs": [],
   "source": [
    "my_list = [1, 2, 3, 4, 5]\n",
    "reversed_list = my_list[::-1]\n",
    "print(reversed_list)  # Output: [5, 4, 3, 2, 1]"
   ]
  },
  {
   "source": [
    "chopping lists down the middle is easy:"
   ],
   "cell_type": "markdown",
   "metadata": {}
  },
  {
   "cell_type": "code",
   "execution_count": 49,
   "metadata": {},
   "outputs": [
    {
     "output_type": "stream",
     "name": "stdout",
     "text": [
      "[1, 2, 3, 4, 5, 6, 7, 8, 9]\n[10, 11, 12, 13, 14, 15, 16, 17, 18, 19]\n"
     ]
    }
   ],
   "source": [
    "some_list = list(range(1,20))\n",
    "mid = len(some_list)//2\n",
    "first_half = some_list[:mid]\n",
    "second_half = some_list[mid:]\n",
    "print(first_half)\n",
    "print(second_half)"
   ]
  },
  {
   "source": [
    "chain functions where appropriate, e.g., `int(input(...))`\n"
   ],
   "cell_type": "markdown",
   "metadata": {}
  },
  {
   "cell_type": "code",
   "execution_count": null,
   "metadata": {},
   "outputs": [],
   "source": [
    "# Un-Pythonic\n",
    "age_str = input(\"Enter your age: \")\n",
    "age = int(age_str)\n",
    "\n",
    "# Pythonic\n",
    "age = int(input(\"Enter your age: \"))"
   ]
  },
  {
   "source": [
    "don't use indexing in str/list/container, if you don't need it\n"
   ],
   "cell_type": "markdown",
   "metadata": {}
  },
  {
   "cell_type": "code",
   "execution_count": null,
   "metadata": {},
   "outputs": [],
   "source": [
    "# Un-Pythonic\n",
    "for i in range(len(my_list)):\n",
    "    print(my_list[i])\n",
    "\n",
    "# Pythonic\n",
    "for item in my_list:\n",
    "    print(item)"
   ]
  },
  {
   "source": [
    "1-liners are better than multi-liners"
   ],
   "cell_type": "markdown",
   "metadata": {}
  },
  {
   "cell_type": "code",
   "execution_count": 51,
   "metadata": {},
   "outputs": [],
   "source": [
    "# Un-Pythonic\n",
    "squared_numbers = []\n",
    "for num in my_list:\n",
    "    squared_numbers.append(num ** 2)\n",
    "\n",
    "# Pythonic\n",
    "squared_numbers = [num ** 2 for num in my_list]"
   ]
  },
  {
   "source": [
    "unless they confuse more than they make clear"
   ],
   "cell_type": "markdown",
   "metadata": {}
  },
  {
   "cell_type": "code",
   "execution_count": 55,
   "metadata": {},
   "outputs": [
    {
     "output_type": "stream",
     "name": "stdout",
     "text": [
      "['AZ']\n"
     ]
    }
   ],
   "source": [
    "# Complex one-liner\n",
    "data = ['AZ','EN','WAY'],['NOT','Found','IN'],['Me','you','Have']\n",
    "filtered_data = [item for sublist in data for item in sublist if item.startswith('A') and item.endswith('Z')]\n",
    "\n",
    "print(filtered_data)"
   ]
  },
  {
   "cell_type": "code",
   "execution_count": 56,
   "metadata": {},
   "outputs": [
    {
     "output_type": "stream",
     "name": "stdout",
     "text": [
      "['AZ']\n"
     ]
    }
   ],
   "source": [
    "# Clearer multi-line equivalent\n",
    "filtered_data = [\n",
    "    item\n",
    "    for sublist in data\n",
    "    for item in sublist\n",
    "    if item.startswith('A') and item.endswith('Z')\n",
    "]\n",
    "print(filtered_data)"
   ]
  },
  {
   "source": [
    " even a regular `for loop` is better than difficult to read 1-liner (my opinion)...\n",
    " ### \"sparse is better than dense\""
   ],
   "cell_type": "markdown",
   "metadata": {}
  },
  {
   "source": [
    "## Functions, Argument Definitions, and Return Statements\n",
    "\n"
   ],
   "cell_type": "markdown",
   "metadata": {}
  },
  {
   "source": [
    "a function that takes a list of numbers and returns the sum of the even numbers\n"
   ],
   "cell_type": "markdown",
   "metadata": {}
  },
  {
   "cell_type": "code",
   "execution_count": null,
   "metadata": {},
   "outputs": [],
   "source": [
    "def sum_even_numbers(numbers):\n",
    "    return sum(num for num in numbers if num % 2 == 0)\n"
   ]
  },
  {
   "source": [
    "a function that takes a variable number of arguments and returns their average"
   ],
   "cell_type": "markdown",
   "metadata": {}
  },
  {
   "cell_type": "code",
   "execution_count": null,
   "metadata": {},
   "outputs": [],
   "source": [
    "def average(*args):\n",
    "    return sum(args) / len(args)"
   ]
  },
  {
   "source": [
    "### Two Types of For Loops"
   ],
   "cell_type": "markdown",
   "metadata": {}
  },
  {
   "source": [
    "a for loop that iterates through a list of strings and prints the length of each string\n"
   ],
   "cell_type": "markdown",
   "metadata": {}
  },
  {
   "cell_type": "code",
   "execution_count": null,
   "metadata": {},
   "outputs": [],
   "source": [
    "words = [\"apple\", \"banana\", \"cherry\", \"date\"]\n",
    "for word in words:\n",
    "    print(len(word))"
   ]
  },
  {
   "source": [
    "a for loop that prints the numbers from 1 to 10 in reverse order"
   ],
   "cell_type": "markdown",
   "metadata": {}
  },
  {
   "cell_type": "code",
   "execution_count": null,
   "metadata": {},
   "outputs": [],
   "source": [
    "for i in range(10, 0, -1):\n",
    "    print(i)"
   ]
  },
  {
   "source": [
    "a for loop that helps you manage 2 birds with one stone (index)"
   ],
   "cell_type": "markdown",
   "metadata": {}
  },
  {
   "cell_type": "code",
   "execution_count": 60,
   "metadata": {},
   "outputs": [
    {
     "output_type": "stream",
     "name": "stdout",
     "text": [
      "[90.0, 160.0, 210.0, 40, 50, 24.0]\n"
     ]
    }
   ],
   "source": [
    "prices = [100, 200, 300, 40, 50, 60]\n",
    "\n",
    "discounts = [0.1, 0.2, 0.3, 0.4, 0.5, 0.6]\n",
    "\n",
    "#discount should only be applied if the price is greater than a certain threshold, say, 50\n",
    "threshold = 50\n",
    "\n",
    "# Un-Pythonic\n",
    "discounted_prices = []\n",
    "for i in range(len(prices)):\n",
    "    if prices[i] > threshold:\n",
    "        discounted_prices.append(prices[i] * (1 - discounts[i]))\n",
    "    else:\n",
    "        discounted_prices.append(prices[i])\n",
    "\n",
    "# Pythonic\n",
    "discounted_prices = [\n",
    "    price * (1 - discounts[index]) if price > threshold else price\n",
    "    for index, price in enumerate(prices)\n",
    "]\n",
    "print(discounted_prices)"
   ]
  },
  {
   "source": [
    "### variable scope"
   ],
   "cell_type": "markdown",
   "metadata": {}
  },
  {
   "cell_type": "code",
   "execution_count": null,
   "metadata": {},
   "outputs": [],
   "source": [
    "def my_function():\n",
    "    x = 10\n",
    "    print(x)\n",
    "\n",
    "my_function()  # Output: 10\n",
    "print(x)  # Raises a NameError"
   ]
  },
  {
   "cell_type": "code",
   "execution_count": null,
   "metadata": {},
   "outputs": [],
   "source": [
    "global_var = 5\n",
    "\n",
    "def my_function():\n",
    "    global global_var\n",
    "    global_var = 10\n",
    "\n",
    "my_function()\n",
    "print(global_var)  # Output: 10"
   ]
  },
  {
   "source": [
    "note that global variables can slow performance, \n",
    "\n",
    "so they should be used sparingly"
   ],
   "cell_type": "markdown",
   "metadata": {}
  },
  {
   "source": [
    "\n",
    "## **Dictionaries:**\n",
    "1. Add the key-value pair `'Python'-1991` to the dictionary `{ 'Java': 1995, 'C++': 1983 }`.\n"
   ],
   "cell_type": "markdown",
   "metadata": {}
  },
  {
   "cell_type": "code",
   "execution_count": null,
   "metadata": {},
   "outputs": [],
   "source": []
  },
  {
   "source": [
    "2. Get the value for `'Python'` in the dictionary `{ 'Python': 1991, 'Java': 1995, 'C++': 1983 }`.\n"
   ],
   "cell_type": "markdown",
   "metadata": {}
  },
  {
   "cell_type": "code",
   "execution_count": null,
   "metadata": {},
   "outputs": [],
   "source": []
  },
  {
   "source": [
    "\n",
    "3. Check if `'C++'` is a key in the dictionary `{ 'Python': 1991, 'Java': 1995, 'C++': 1983 }`.\n"
   ],
   "cell_type": "markdown",
   "metadata": {}
  },
  {
   "cell_type": "code",
   "execution_count": null,
   "metadata": {},
   "outputs": [],
   "source": []
  },
  {
   "source": [
    "4. Remove the key-value pair 'Java'-1995 from the dictionary { 'Python': 1991, 'Java': 1995, 'C++': 1983 }"
   ],
   "cell_type": "markdown",
   "metadata": {}
  },
  {
   "cell_type": "code",
   "execution_count": null,
   "metadata": {},
   "outputs": [],
   "source": []
  },
  {
   "source": [
    "5. Convert the keys of the dictionary { 'Python': 1991, 'Java': 1995, 'C++': 1983 } to a list."
   ],
   "cell_type": "markdown",
   "metadata": {}
  },
  {
   "source": [
    "### Compound Exercises\n"
   ],
   "cell_type": "markdown",
   "metadata": {}
  },
  {
   "source": [
    "### Positive Sum\n",
    "You get an array of numbers, return the sum of all of the positives ones.\n",
    "\n",
    "Example `[1,-4,7,12]` => 1 + 7 + 12 = 20\n",
    "\n",
    "[source](https://www.codewars.com/kata/5715eaedb436cf5606000381)"
   ],
   "cell_type": "markdown",
   "metadata": {}
  },
  {
   "cell_type": "code",
   "execution_count": null,
   "metadata": {},
   "outputs": [],
   "source": []
  },
  {
   "source": [
    "### first and last\n",
    "Create a function that removes the first and last characters of a string. \n",
    "\n",
    "You're given one parameter, the original string. \n",
    "\n",
    "You don't have to worry about strings with less than two characters."
   ],
   "cell_type": "markdown",
   "metadata": {}
  },
  {
   "cell_type": "code",
   "execution_count": null,
   "metadata": {},
   "outputs": [],
   "source": []
  },
  {
   "source": [
    "### Vowel Count\n",
    "Return the number (count) of vowels in the given string.\n",
    "\n",
    "We will consider a, e, i, o, u as vowels for this problem (but not y).\n",
    "\n",
    "The input string will only consist of lower case letters and/or spaces."
   ],
   "cell_type": "markdown",
   "metadata": {}
  },
  {
   "cell_type": "code",
   "execution_count": null,
   "metadata": {},
   "outputs": [],
   "source": [
    "string_1 = 'adieu'\n",
    "string_2 = \"I rode a wagon down to the plains and caught a boat\"\n"
   ]
  },
  {
   "source": [
    "### Square Digits\n",
    "write a function to square every digit of a number and concatenate them.\n",
    "\n",
    "For example, if we run `9119` through the function, `811181` will come out, because 92 is 81 and 12 is 1. (81-1-1-81)\n",
    "\n",
    "Example #2: An input of 765 will/should return 493625 because 72 is 49, 62 is 36, and 52 is 25. (49-36-25)\n",
    "\n",
    "Note: The function accepts an integer and returns an integer."
   ],
   "cell_type": "markdown",
   "metadata": {}
  },
  {
   "cell_type": "code",
   "execution_count": null,
   "metadata": {},
   "outputs": [],
   "source": []
  },
  {
   "source": [
    "### Flip-int numbers\n",
    "Your task is to make a function that can take any non-negative integer as an argument and return it with its digits in descending order. \n",
    "\n",
    "Essentially, rearrange the digits to create the highest possible number.\n",
    "\n",
    "Examples:\n",
    "Input: 42145 Output: 54421\n",
    "\n",
    "Input: 145263 Output: 654321\n",
    "\n",
    "Input: 123456789 Output: 987654321"
   ],
   "cell_type": "markdown",
   "metadata": {}
  },
  {
   "cell_type": "code",
   "execution_count": null,
   "metadata": {},
   "outputs": [],
   "source": []
  },
  {
   "source": [
    "### Multiplication of Positive Numbers\n",
    "You are given an array of numbers.\n",
    "\n",
    "Return the product of all the positive numbers in the array.\n",
    "\n",
    "If there are no positive numbers in the array, return 0.\n",
    "\n"
   ],
   "cell_type": "markdown",
   "metadata": {}
  },
  {
   "cell_type": "code",
   "execution_count": null,
   "metadata": {},
   "outputs": [],
   "source": [
    "some_nums = [1,2,3,-1,24,-2]"
   ]
  },
  {
   "source": [
    "### Reverse the Middle\n",
    "\n",
    "Create a function that takes a string as input.\n",
    "\n",
    "If the string has an odd length, reverse the middle character.\n",
    "\n",
    "If the string has an even length, reverse the middle two characters.\n",
    "Return the modified string.\n",
    "##\n"
   ],
   "cell_type": "markdown",
   "metadata": {}
  },
  {
   "cell_type": "code",
   "execution_count": null,
   "metadata": {},
   "outputs": [],
   "source": []
  },
  {
   "source": [
    "### Count Consonants\n",
    "\n",
    "Return the number (count) of consonants in the given string.\n",
    "\n",
    "Consider all non-vowels (excluding 'y') as consonants for this problem.\n",
    "\n",
    "The input string will only consist of lowercase letters and/or spaces."
   ],
   "cell_type": "markdown",
   "metadata": {}
  },
  {
   "cell_type": "code",
   "execution_count": null,
   "metadata": {},
   "outputs": [],
   "source": []
  },
  {
   "source": [
    "### Cube Every Digit\n",
    "\n",
    "Write a function to cube every digit of a number and concatenate them.\n",
    "\n",
    "For example, if we run 1234 through the function, 1912727 will come out, because 1^3 is 1, 2^3 is 8, 3^3 is 27, and 4^3 is 64.\n",
    "\n",
    "The function accepts an integer and returns an integer.\n"
   ],
   "cell_type": "markdown",
   "metadata": {}
  },
  {
   "cell_type": "code",
   "execution_count": null,
   "metadata": {},
   "outputs": [],
   "source": []
  },
  {
   "source": [
    "\n",
    "### Ascending Order\n",
    "Your task is to make a function that can take any non-negative integer as an argument and return it with its digits in ascending order.\n",
    "\n",
    "Essentially, rearrange the digits to create the lowest possible number."
   ],
   "cell_type": "markdown",
   "metadata": {}
  },
  {
   "cell_type": "code",
   "execution_count": null,
   "metadata": {},
   "outputs": [],
   "source": []
  },
  {
   "source": [
    "### Sum of Digits\n",
    "\n",
    "Create a function that takes a number as input and returns the sum of its digits.\n",
    "\n",
    "The function should work for both positive and negative numbers."
   ],
   "cell_type": "markdown",
   "metadata": {}
  },
  {
   "cell_type": "code",
   "execution_count": null,
   "metadata": {},
   "outputs": [],
   "source": []
  },
  {
   "source": [
    "### Alternate Case\n",
    "\n",
    "Write a function that takes a string as input and returns a new string where the case of each character is flipped.\n",
    "\n",
    "Uppercase characters should become lowercase, and lowercase characters should become uppercase.\n",
    "\n",
    "Non-alphabetic characters should remain unchanged."
   ],
   "cell_type": "markdown",
   "metadata": {}
  },
  {
   "cell_type": "code",
   "execution_count": null,
   "metadata": {},
   "outputs": [],
   "source": []
  },
  {
   "source": [
    "### Fibonacci Sequence\n",
    "\n",
    "Create a function that takes a positive integer n as input and returns the nth number in the Fibonacci sequence.\n",
    "\n",
    "The Fibonacci sequence starts with 0 and 1, and each subsequent number is the sum of the two preceding ones."
   ],
   "cell_type": "markdown",
   "metadata": {}
  },
  {
   "cell_type": "code",
   "execution_count": null,
   "metadata": {},
   "outputs": [],
   "source": []
  }
 ]
}